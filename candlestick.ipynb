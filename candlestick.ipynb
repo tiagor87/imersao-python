{
 "cells": [
  {
   "cell_type": "code",
   "execution_count": 18,
   "metadata": {},
   "outputs": [
    {
     "name": "stdout",
     "output_type": "stream",
     "text": [
      "Requirement already satisfied: pandas in c:\\users\\tiago\\appdata\\local\\packages\\pythonsoftwarefoundation.python.3.11_qbz5n2kfra8p0\\localcache\\local-packages\\python311\\site-packages (2.2.1)\n",
      "Requirement already satisfied: openpyxl in c:\\users\\tiago\\appdata\\local\\packages\\pythonsoftwarefoundation.python.3.11_qbz5n2kfra8p0\\localcache\\local-packages\\python311\\site-packages (3.1.2)\n",
      "Requirement already satisfied: matplotlib in c:\\users\\tiago\\appdata\\local\\packages\\pythonsoftwarefoundation.python.3.11_qbz5n2kfra8p0\\localcache\\local-packages\\python311\\site-packages (3.8.3)\n",
      "Requirement already satisfied: mplfinance in c:\\users\\tiago\\appdata\\local\\packages\\pythonsoftwarefoundation.python.3.11_qbz5n2kfra8p0\\localcache\\local-packages\\python311\\site-packages (0.12.10b0)\n",
      "Requirement already satisfied: plotly in c:\\users\\tiago\\appdata\\local\\packages\\pythonsoftwarefoundation.python.3.11_qbz5n2kfra8p0\\localcache\\local-packages\\python311\\site-packages (5.20.0)\n",
      "Requirement already satisfied: yfinance in c:\\users\\tiago\\appdata\\local\\packages\\pythonsoftwarefoundation.python.3.11_qbz5n2kfra8p0\\localcache\\local-packages\\python311\\site-packages (0.2.37)\n",
      "Requirement already satisfied: numpy<2,>=1.23.2 in c:\\users\\tiago\\appdata\\local\\packages\\pythonsoftwarefoundation.python.3.11_qbz5n2kfra8p0\\localcache\\local-packages\\python311\\site-packages (from pandas) (1.26.4)\n",
      "Requirement already satisfied: python-dateutil>=2.8.2 in c:\\users\\tiago\\appdata\\local\\packages\\pythonsoftwarefoundation.python.3.11_qbz5n2kfra8p0\\localcache\\local-packages\\python311\\site-packages (from pandas) (2.8.2)\n",
      "Requirement already satisfied: pytz>=2020.1 in c:\\users\\tiago\\appdata\\local\\packages\\pythonsoftwarefoundation.python.3.11_qbz5n2kfra8p0\\localcache\\local-packages\\python311\\site-packages (from pandas) (2024.1)\n",
      "Requirement already satisfied: tzdata>=2022.7 in c:\\users\\tiago\\appdata\\local\\packages\\pythonsoftwarefoundation.python.3.11_qbz5n2kfra8p0\\localcache\\local-packages\\python311\\site-packages (from pandas) (2024.1)\n",
      "Requirement already satisfied: et-xmlfile in c:\\users\\tiago\\appdata\\local\\packages\\pythonsoftwarefoundation.python.3.11_qbz5n2kfra8p0\\localcache\\local-packages\\python311\\site-packages (from openpyxl) (1.1.0)\n",
      "Requirement already satisfied: contourpy>=1.0.1 in c:\\users\\tiago\\appdata\\local\\packages\\pythonsoftwarefoundation.python.3.11_qbz5n2kfra8p0\\localcache\\local-packages\\python311\\site-packages (from matplotlib) (1.2.0)\n",
      "Requirement already satisfied: cycler>=0.10 in c:\\users\\tiago\\appdata\\local\\packages\\pythonsoftwarefoundation.python.3.11_qbz5n2kfra8p0\\localcache\\local-packages\\python311\\site-packages (from matplotlib) (0.12.1)\n",
      "Requirement already satisfied: fonttools>=4.22.0 in c:\\users\\tiago\\appdata\\local\\packages\\pythonsoftwarefoundation.python.3.11_qbz5n2kfra8p0\\localcache\\local-packages\\python311\\site-packages (from matplotlib) (4.50.0)\n",
      "Requirement already satisfied: kiwisolver>=1.3.1 in c:\\users\\tiago\\appdata\\local\\packages\\pythonsoftwarefoundation.python.3.11_qbz5n2kfra8p0\\localcache\\local-packages\\python311\\site-packages (from matplotlib) (1.4.5)\n",
      "Requirement already satisfied: packaging>=20.0 in c:\\users\\tiago\\appdata\\local\\packages\\pythonsoftwarefoundation.python.3.11_qbz5n2kfra8p0\\localcache\\local-packages\\python311\\site-packages (from matplotlib) (23.2)\n",
      "Requirement already satisfied: pillow>=8 in c:\\users\\tiago\\appdata\\local\\packages\\pythonsoftwarefoundation.python.3.11_qbz5n2kfra8p0\\localcache\\local-packages\\python311\\site-packages (from matplotlib) (10.2.0)\n",
      "Requirement already satisfied: pyparsing>=2.3.1 in c:\\users\\tiago\\appdata\\local\\packages\\pythonsoftwarefoundation.python.3.11_qbz5n2kfra8p0\\localcache\\local-packages\\python311\\site-packages (from matplotlib) (3.1.2)\n",
      "Requirement already satisfied: tenacity>=6.2.0 in c:\\users\\tiago\\appdata\\local\\packages\\pythonsoftwarefoundation.python.3.11_qbz5n2kfra8p0\\localcache\\local-packages\\python311\\site-packages (from plotly) (8.2.3)\n",
      "Requirement already satisfied: requests>=2.31 in c:\\users\\tiago\\appdata\\local\\packages\\pythonsoftwarefoundation.python.3.11_qbz5n2kfra8p0\\localcache\\local-packages\\python311\\site-packages (from yfinance) (2.31.0)\n",
      "Requirement already satisfied: multitasking>=0.0.7 in c:\\users\\tiago\\appdata\\local\\packages\\pythonsoftwarefoundation.python.3.11_qbz5n2kfra8p0\\localcache\\local-packages\\python311\\site-packages (from yfinance) (0.0.11)\n",
      "Requirement already satisfied: lxml>=4.9.1 in c:\\users\\tiago\\appdata\\local\\packages\\pythonsoftwarefoundation.python.3.11_qbz5n2kfra8p0\\localcache\\local-packages\\python311\\site-packages (from yfinance) (5.1.0)\n",
      "Requirement already satisfied: appdirs>=1.4.4 in c:\\users\\tiago\\appdata\\local\\packages\\pythonsoftwarefoundation.python.3.11_qbz5n2kfra8p0\\localcache\\local-packages\\python311\\site-packages (from yfinance) (1.4.4)\n",
      "Requirement already satisfied: frozendict>=2.3.4 in c:\\users\\tiago\\appdata\\local\\packages\\pythonsoftwarefoundation.python.3.11_qbz5n2kfra8p0\\localcache\\local-packages\\python311\\site-packages (from yfinance) (2.4.0)\n",
      "Requirement already satisfied: peewee>=3.16.2 in c:\\users\\tiago\\appdata\\local\\packages\\pythonsoftwarefoundation.python.3.11_qbz5n2kfra8p0\\localcache\\local-packages\\python311\\site-packages (from yfinance) (3.17.1)\n",
      "Requirement already satisfied: beautifulsoup4>=4.11.1 in c:\\users\\tiago\\appdata\\local\\packages\\pythonsoftwarefoundation.python.3.11_qbz5n2kfra8p0\\localcache\\local-packages\\python311\\site-packages (from yfinance) (4.12.3)\n",
      "Requirement already satisfied: html5lib>=1.1 in c:\\users\\tiago\\appdata\\local\\packages\\pythonsoftwarefoundation.python.3.11_qbz5n2kfra8p0\\localcache\\local-packages\\python311\\site-packages (from yfinance) (1.1)\n",
      "Requirement already satisfied: soupsieve>1.2 in c:\\users\\tiago\\appdata\\local\\packages\\pythonsoftwarefoundation.python.3.11_qbz5n2kfra8p0\\localcache\\local-packages\\python311\\site-packages (from beautifulsoup4>=4.11.1->yfinance) (2.5)\n",
      "Requirement already satisfied: six>=1.9 in c:\\users\\tiago\\appdata\\local\\packages\\pythonsoftwarefoundation.python.3.11_qbz5n2kfra8p0\\localcache\\local-packages\\python311\\site-packages (from html5lib>=1.1->yfinance) (1.16.0)\n",
      "Requirement already satisfied: webencodings in c:\\users\\tiago\\appdata\\local\\packages\\pythonsoftwarefoundation.python.3.11_qbz5n2kfra8p0\\localcache\\local-packages\\python311\\site-packages (from html5lib>=1.1->yfinance) (0.5.1)\n",
      "Requirement already satisfied: charset-normalizer<4,>=2 in c:\\users\\tiago\\appdata\\local\\packages\\pythonsoftwarefoundation.python.3.11_qbz5n2kfra8p0\\localcache\\local-packages\\python311\\site-packages (from requests>=2.31->yfinance) (3.3.2)\n",
      "Requirement already satisfied: idna<4,>=2.5 in c:\\users\\tiago\\appdata\\local\\packages\\pythonsoftwarefoundation.python.3.11_qbz5n2kfra8p0\\localcache\\local-packages\\python311\\site-packages (from requests>=2.31->yfinance) (3.6)\n",
      "Requirement already satisfied: urllib3<3,>=1.21.1 in c:\\users\\tiago\\appdata\\local\\packages\\pythonsoftwarefoundation.python.3.11_qbz5n2kfra8p0\\localcache\\local-packages\\python311\\site-packages (from requests>=2.31->yfinance) (2.2.1)\n",
      "Requirement already satisfied: certifi>=2017.4.17 in c:\\users\\tiago\\appdata\\local\\packages\\pythonsoftwarefoundation.python.3.11_qbz5n2kfra8p0\\localcache\\local-packages\\python311\\site-packages (from requests>=2.31->yfinance) (2024.2.2)\n"
     ]
    }
   ],
   "source": [
    "!pip3 install pandas openpyxl matplotlib mplfinance plotly yfinance"
   ]
  },
  {
   "cell_type": "code",
   "execution_count": 19,
   "metadata": {},
   "outputs": [],
   "source": [
    "import matplotlib.pyplot as plt\n",
    "import matplotlib.dates as mdates\n",
    "import mplfinance as mpf\n",
    "import yfinance as yf\n",
    "import plotly.graph_objects as go\n",
    "from plotly.subplots import make_subplots"
   ]
  },
  {
   "cell_type": "code",
   "execution_count": 20,
   "metadata": {},
   "outputs": [],
   "source": [
    "nome_acao = 'AAPL' # Apple\n",
    "data_inicio='2023-01-01' # Data de início\n",
    "data_final='2023-12-31' # Data final"
   ]
  },
  {
   "cell_type": "code",
   "execution_count": 21,
   "metadata": {},
   "outputs": [
    {
     "name": "stderr",
     "output_type": "stream",
     "text": [
      "[*********************100%%**********************]  1 of 1 completed\n"
     ]
    },
    {
     "data": {
      "text/html": [
       "<div>\n",
       "<style scoped>\n",
       "    .dataframe tbody tr th:only-of-type {\n",
       "        vertical-align: middle;\n",
       "    }\n",
       "\n",
       "    .dataframe tbody tr th {\n",
       "        vertical-align: top;\n",
       "    }\n",
       "\n",
       "    .dataframe thead th {\n",
       "        text-align: right;\n",
       "    }\n",
       "</style>\n",
       "<table border=\"1\" class=\"dataframe\">\n",
       "  <thead>\n",
       "    <tr style=\"text-align: right;\">\n",
       "      <th></th>\n",
       "      <th>Open</th>\n",
       "      <th>High</th>\n",
       "      <th>Low</th>\n",
       "      <th>Close</th>\n",
       "      <th>Adj Close</th>\n",
       "      <th>Volume</th>\n",
       "    </tr>\n",
       "    <tr>\n",
       "      <th>Date</th>\n",
       "      <th></th>\n",
       "      <th></th>\n",
       "      <th></th>\n",
       "      <th></th>\n",
       "      <th></th>\n",
       "      <th></th>\n",
       "    </tr>\n",
       "  </thead>\n",
       "  <tbody>\n",
       "    <tr>\n",
       "      <th>2023-01-03</th>\n",
       "      <td>130.279999</td>\n",
       "      <td>130.899994</td>\n",
       "      <td>124.169998</td>\n",
       "      <td>125.070000</td>\n",
       "      <td>124.216301</td>\n",
       "      <td>112117500</td>\n",
       "    </tr>\n",
       "    <tr>\n",
       "      <th>2023-01-04</th>\n",
       "      <td>126.889999</td>\n",
       "      <td>128.660004</td>\n",
       "      <td>125.080002</td>\n",
       "      <td>126.360001</td>\n",
       "      <td>125.497498</td>\n",
       "      <td>89113600</td>\n",
       "    </tr>\n",
       "    <tr>\n",
       "      <th>2023-01-05</th>\n",
       "      <td>127.129997</td>\n",
       "      <td>127.769997</td>\n",
       "      <td>124.760002</td>\n",
       "      <td>125.019997</td>\n",
       "      <td>124.166641</td>\n",
       "      <td>80962700</td>\n",
       "    </tr>\n",
       "    <tr>\n",
       "      <th>2023-01-06</th>\n",
       "      <td>126.010002</td>\n",
       "      <td>130.289993</td>\n",
       "      <td>124.889999</td>\n",
       "      <td>129.619995</td>\n",
       "      <td>128.735229</td>\n",
       "      <td>87754700</td>\n",
       "    </tr>\n",
       "    <tr>\n",
       "      <th>2023-01-09</th>\n",
       "      <td>130.470001</td>\n",
       "      <td>133.410004</td>\n",
       "      <td>129.889999</td>\n",
       "      <td>130.149994</td>\n",
       "      <td>129.261627</td>\n",
       "      <td>70790800</td>\n",
       "    </tr>\n",
       "    <tr>\n",
       "      <th>...</th>\n",
       "      <td>...</td>\n",
       "      <td>...</td>\n",
       "      <td>...</td>\n",
       "      <td>...</td>\n",
       "      <td>...</td>\n",
       "      <td>...</td>\n",
       "    </tr>\n",
       "    <tr>\n",
       "      <th>2023-12-22</th>\n",
       "      <td>195.179993</td>\n",
       "      <td>195.410004</td>\n",
       "      <td>192.970001</td>\n",
       "      <td>193.600006</td>\n",
       "      <td>193.353287</td>\n",
       "      <td>37122800</td>\n",
       "    </tr>\n",
       "    <tr>\n",
       "      <th>2023-12-26</th>\n",
       "      <td>193.610001</td>\n",
       "      <td>193.889999</td>\n",
       "      <td>192.830002</td>\n",
       "      <td>193.050003</td>\n",
       "      <td>192.803986</td>\n",
       "      <td>28919300</td>\n",
       "    </tr>\n",
       "    <tr>\n",
       "      <th>2023-12-27</th>\n",
       "      <td>192.490005</td>\n",
       "      <td>193.500000</td>\n",
       "      <td>191.089996</td>\n",
       "      <td>193.149994</td>\n",
       "      <td>192.903839</td>\n",
       "      <td>48087700</td>\n",
       "    </tr>\n",
       "    <tr>\n",
       "      <th>2023-12-28</th>\n",
       "      <td>194.139999</td>\n",
       "      <td>194.660004</td>\n",
       "      <td>193.169998</td>\n",
       "      <td>193.580002</td>\n",
       "      <td>193.333298</td>\n",
       "      <td>34049900</td>\n",
       "    </tr>\n",
       "    <tr>\n",
       "      <th>2023-12-29</th>\n",
       "      <td>193.899994</td>\n",
       "      <td>194.399994</td>\n",
       "      <td>191.729996</td>\n",
       "      <td>192.529999</td>\n",
       "      <td>192.284637</td>\n",
       "      <td>42628800</td>\n",
       "    </tr>\n",
       "  </tbody>\n",
       "</table>\n",
       "<p>250 rows × 6 columns</p>\n",
       "</div>"
      ],
      "text/plain": [
       "                  Open        High         Low       Close   Adj Close  \\\n",
       "Date                                                                     \n",
       "2023-01-03  130.279999  130.899994  124.169998  125.070000  124.216301   \n",
       "2023-01-04  126.889999  128.660004  125.080002  126.360001  125.497498   \n",
       "2023-01-05  127.129997  127.769997  124.760002  125.019997  124.166641   \n",
       "2023-01-06  126.010002  130.289993  124.889999  129.619995  128.735229   \n",
       "2023-01-09  130.470001  133.410004  129.889999  130.149994  129.261627   \n",
       "...                ...         ...         ...         ...         ...   \n",
       "2023-12-22  195.179993  195.410004  192.970001  193.600006  193.353287   \n",
       "2023-12-26  193.610001  193.889999  192.830002  193.050003  192.803986   \n",
       "2023-12-27  192.490005  193.500000  191.089996  193.149994  192.903839   \n",
       "2023-12-28  194.139999  194.660004  193.169998  193.580002  193.333298   \n",
       "2023-12-29  193.899994  194.399994  191.729996  192.529999  192.284637   \n",
       "\n",
       "               Volume  \n",
       "Date                   \n",
       "2023-01-03  112117500  \n",
       "2023-01-04   89113600  \n",
       "2023-01-05   80962700  \n",
       "2023-01-06   87754700  \n",
       "2023-01-09   70790800  \n",
       "...               ...  \n",
       "2023-12-22   37122800  \n",
       "2023-12-26   28919300  \n",
       "2023-12-27   48087700  \n",
       "2023-12-28   34049900  \n",
       "2023-12-29   42628800  \n",
       "\n",
       "[250 rows x 6 columns]"
      ]
     },
     "execution_count": 21,
     "metadata": {},
     "output_type": "execute_result"
    }
   ],
   "source": [
    "df_original = yf.download(\n",
    "    nome_acao,\n",
    "    start=data_inicio,\n",
    "    end=data_final)\n",
    "df_original"
   ]
  },
  {
   "cell_type": "code",
   "execution_count": 22,
   "metadata": {},
   "outputs": [
    {
     "data": {
      "text/html": [
       "<div>\n",
       "<style scoped>\n",
       "    .dataframe tbody tr th:only-of-type {\n",
       "        vertical-align: middle;\n",
       "    }\n",
       "\n",
       "    .dataframe tbody tr th {\n",
       "        vertical-align: top;\n",
       "    }\n",
       "\n",
       "    .dataframe thead th {\n",
       "        text-align: right;\n",
       "    }\n",
       "</style>\n",
       "<table border=\"1\" class=\"dataframe\">\n",
       "  <thead>\n",
       "    <tr style=\"text-align: right;\">\n",
       "      <th></th>\n",
       "      <th>abertura</th>\n",
       "      <th>maximo</th>\n",
       "      <th>minimo</th>\n",
       "      <th>fechamento</th>\n",
       "      <th>fechamento_ajustado</th>\n",
       "      <th>volume</th>\n",
       "    </tr>\n",
       "    <tr>\n",
       "      <th>Date</th>\n",
       "      <th></th>\n",
       "      <th></th>\n",
       "      <th></th>\n",
       "      <th></th>\n",
       "      <th></th>\n",
       "      <th></th>\n",
       "    </tr>\n",
       "  </thead>\n",
       "  <tbody>\n",
       "    <tr>\n",
       "      <th>2023-01-03</th>\n",
       "      <td>130.279999</td>\n",
       "      <td>130.899994</td>\n",
       "      <td>124.169998</td>\n",
       "      <td>125.070000</td>\n",
       "      <td>124.216301</td>\n",
       "      <td>112117500</td>\n",
       "    </tr>\n",
       "    <tr>\n",
       "      <th>2023-01-04</th>\n",
       "      <td>126.889999</td>\n",
       "      <td>128.660004</td>\n",
       "      <td>125.080002</td>\n",
       "      <td>126.360001</td>\n",
       "      <td>125.497498</td>\n",
       "      <td>89113600</td>\n",
       "    </tr>\n",
       "    <tr>\n",
       "      <th>2023-01-05</th>\n",
       "      <td>127.129997</td>\n",
       "      <td>127.769997</td>\n",
       "      <td>124.760002</td>\n",
       "      <td>125.019997</td>\n",
       "      <td>124.166641</td>\n",
       "      <td>80962700</td>\n",
       "    </tr>\n",
       "    <tr>\n",
       "      <th>2023-01-06</th>\n",
       "      <td>126.010002</td>\n",
       "      <td>130.289993</td>\n",
       "      <td>124.889999</td>\n",
       "      <td>129.619995</td>\n",
       "      <td>128.735229</td>\n",
       "      <td>87754700</td>\n",
       "    </tr>\n",
       "    <tr>\n",
       "      <th>2023-01-09</th>\n",
       "      <td>130.470001</td>\n",
       "      <td>133.410004</td>\n",
       "      <td>129.889999</td>\n",
       "      <td>130.149994</td>\n",
       "      <td>129.261627</td>\n",
       "      <td>70790800</td>\n",
       "    </tr>\n",
       "    <tr>\n",
       "      <th>...</th>\n",
       "      <td>...</td>\n",
       "      <td>...</td>\n",
       "      <td>...</td>\n",
       "      <td>...</td>\n",
       "      <td>...</td>\n",
       "      <td>...</td>\n",
       "    </tr>\n",
       "    <tr>\n",
       "      <th>2023-12-22</th>\n",
       "      <td>195.179993</td>\n",
       "      <td>195.410004</td>\n",
       "      <td>192.970001</td>\n",
       "      <td>193.600006</td>\n",
       "      <td>193.353287</td>\n",
       "      <td>37122800</td>\n",
       "    </tr>\n",
       "    <tr>\n",
       "      <th>2023-12-26</th>\n",
       "      <td>193.610001</td>\n",
       "      <td>193.889999</td>\n",
       "      <td>192.830002</td>\n",
       "      <td>193.050003</td>\n",
       "      <td>192.803986</td>\n",
       "      <td>28919300</td>\n",
       "    </tr>\n",
       "    <tr>\n",
       "      <th>2023-12-27</th>\n",
       "      <td>192.490005</td>\n",
       "      <td>193.500000</td>\n",
       "      <td>191.089996</td>\n",
       "      <td>193.149994</td>\n",
       "      <td>192.903839</td>\n",
       "      <td>48087700</td>\n",
       "    </tr>\n",
       "    <tr>\n",
       "      <th>2023-12-28</th>\n",
       "      <td>194.139999</td>\n",
       "      <td>194.660004</td>\n",
       "      <td>193.169998</td>\n",
       "      <td>193.580002</td>\n",
       "      <td>193.333298</td>\n",
       "      <td>34049900</td>\n",
       "    </tr>\n",
       "    <tr>\n",
       "      <th>2023-12-29</th>\n",
       "      <td>193.899994</td>\n",
       "      <td>194.399994</td>\n",
       "      <td>191.729996</td>\n",
       "      <td>192.529999</td>\n",
       "      <td>192.284637</td>\n",
       "      <td>42628800</td>\n",
       "    </tr>\n",
       "  </tbody>\n",
       "</table>\n",
       "<p>250 rows × 6 columns</p>\n",
       "</div>"
      ],
      "text/plain": [
       "              abertura      maximo      minimo  fechamento  \\\n",
       "Date                                                         \n",
       "2023-01-03  130.279999  130.899994  124.169998  125.070000   \n",
       "2023-01-04  126.889999  128.660004  125.080002  126.360001   \n",
       "2023-01-05  127.129997  127.769997  124.760002  125.019997   \n",
       "2023-01-06  126.010002  130.289993  124.889999  129.619995   \n",
       "2023-01-09  130.470001  133.410004  129.889999  130.149994   \n",
       "...                ...         ...         ...         ...   \n",
       "2023-12-22  195.179993  195.410004  192.970001  193.600006   \n",
       "2023-12-26  193.610001  193.889999  192.830002  193.050003   \n",
       "2023-12-27  192.490005  193.500000  191.089996  193.149994   \n",
       "2023-12-28  194.139999  194.660004  193.169998  193.580002   \n",
       "2023-12-29  193.899994  194.399994  191.729996  192.529999   \n",
       "\n",
       "            fechamento_ajustado     volume  \n",
       "Date                                        \n",
       "2023-01-03           124.216301  112117500  \n",
       "2023-01-04           125.497498   89113600  \n",
       "2023-01-05           124.166641   80962700  \n",
       "2023-01-06           128.735229   87754700  \n",
       "2023-01-09           129.261627   70790800  \n",
       "...                         ...        ...  \n",
       "2023-12-22           193.353287   37122800  \n",
       "2023-12-26           192.803986   28919300  \n",
       "2023-12-27           192.903839   48087700  \n",
       "2023-12-28           193.333298   34049900  \n",
       "2023-12-29           192.284637   42628800  \n",
       "\n",
       "[250 rows x 6 columns]"
      ]
     },
     "execution_count": 22,
     "metadata": {},
     "output_type": "execute_result"
    }
   ],
   "source": [
    "df = df_original.copy()\n",
    "df.columns = ['abertura', 'maximo', 'minimo', 'fechamento', 'fechamento_ajustado', 'volume']\n",
    "df"
   ]
  },
  {
   "cell_type": "code",
   "execution_count": 23,
   "metadata": {},
   "outputs": [
    {
     "data": {
      "text/html": [
       "<div>\n",
       "<style scoped>\n",
       "    .dataframe tbody tr th:only-of-type {\n",
       "        vertical-align: middle;\n",
       "    }\n",
       "\n",
       "    .dataframe tbody tr th {\n",
       "        vertical-align: top;\n",
       "    }\n",
       "\n",
       "    .dataframe thead th {\n",
       "        text-align: right;\n",
       "    }\n",
       "</style>\n",
       "<table border=\"1\" class=\"dataframe\">\n",
       "  <thead>\n",
       "    <tr style=\"text-align: right;\">\n",
       "      <th></th>\n",
       "      <th>abertura</th>\n",
       "      <th>maximo</th>\n",
       "      <th>minimo</th>\n",
       "      <th>fechamento</th>\n",
       "      <th>fechamento_ajustado</th>\n",
       "      <th>volume</th>\n",
       "    </tr>\n",
       "    <tr>\n",
       "      <th>data</th>\n",
       "      <th></th>\n",
       "      <th></th>\n",
       "      <th></th>\n",
       "      <th></th>\n",
       "      <th></th>\n",
       "      <th></th>\n",
       "    </tr>\n",
       "  </thead>\n",
       "  <tbody>\n",
       "    <tr>\n",
       "      <th>2023-01-03</th>\n",
       "      <td>130.279999</td>\n",
       "      <td>130.899994</td>\n",
       "      <td>124.169998</td>\n",
       "      <td>125.070000</td>\n",
       "      <td>124.216301</td>\n",
       "      <td>112117500</td>\n",
       "    </tr>\n",
       "    <tr>\n",
       "      <th>2023-01-04</th>\n",
       "      <td>126.889999</td>\n",
       "      <td>128.660004</td>\n",
       "      <td>125.080002</td>\n",
       "      <td>126.360001</td>\n",
       "      <td>125.497498</td>\n",
       "      <td>89113600</td>\n",
       "    </tr>\n",
       "    <tr>\n",
       "      <th>2023-01-05</th>\n",
       "      <td>127.129997</td>\n",
       "      <td>127.769997</td>\n",
       "      <td>124.760002</td>\n",
       "      <td>125.019997</td>\n",
       "      <td>124.166641</td>\n",
       "      <td>80962700</td>\n",
       "    </tr>\n",
       "    <tr>\n",
       "      <th>2023-01-06</th>\n",
       "      <td>126.010002</td>\n",
       "      <td>130.289993</td>\n",
       "      <td>124.889999</td>\n",
       "      <td>129.619995</td>\n",
       "      <td>128.735229</td>\n",
       "      <td>87754700</td>\n",
       "    </tr>\n",
       "    <tr>\n",
       "      <th>2023-01-09</th>\n",
       "      <td>130.470001</td>\n",
       "      <td>133.410004</td>\n",
       "      <td>129.889999</td>\n",
       "      <td>130.149994</td>\n",
       "      <td>129.261627</td>\n",
       "      <td>70790800</td>\n",
       "    </tr>\n",
       "    <tr>\n",
       "      <th>...</th>\n",
       "      <td>...</td>\n",
       "      <td>...</td>\n",
       "      <td>...</td>\n",
       "      <td>...</td>\n",
       "      <td>...</td>\n",
       "      <td>...</td>\n",
       "    </tr>\n",
       "    <tr>\n",
       "      <th>2023-12-22</th>\n",
       "      <td>195.179993</td>\n",
       "      <td>195.410004</td>\n",
       "      <td>192.970001</td>\n",
       "      <td>193.600006</td>\n",
       "      <td>193.353287</td>\n",
       "      <td>37122800</td>\n",
       "    </tr>\n",
       "    <tr>\n",
       "      <th>2023-12-26</th>\n",
       "      <td>193.610001</td>\n",
       "      <td>193.889999</td>\n",
       "      <td>192.830002</td>\n",
       "      <td>193.050003</td>\n",
       "      <td>192.803986</td>\n",
       "      <td>28919300</td>\n",
       "    </tr>\n",
       "    <tr>\n",
       "      <th>2023-12-27</th>\n",
       "      <td>192.490005</td>\n",
       "      <td>193.500000</td>\n",
       "      <td>191.089996</td>\n",
       "      <td>193.149994</td>\n",
       "      <td>192.903839</td>\n",
       "      <td>48087700</td>\n",
       "    </tr>\n",
       "    <tr>\n",
       "      <th>2023-12-28</th>\n",
       "      <td>194.139999</td>\n",
       "      <td>194.660004</td>\n",
       "      <td>193.169998</td>\n",
       "      <td>193.580002</td>\n",
       "      <td>193.333298</td>\n",
       "      <td>34049900</td>\n",
       "    </tr>\n",
       "    <tr>\n",
       "      <th>2023-12-29</th>\n",
       "      <td>193.899994</td>\n",
       "      <td>194.399994</td>\n",
       "      <td>191.729996</td>\n",
       "      <td>192.529999</td>\n",
       "      <td>192.284637</td>\n",
       "      <td>42628800</td>\n",
       "    </tr>\n",
       "  </tbody>\n",
       "</table>\n",
       "<p>250 rows × 6 columns</p>\n",
       "</div>"
      ],
      "text/plain": [
       "              abertura      maximo      minimo  fechamento  \\\n",
       "data                                                         \n",
       "2023-01-03  130.279999  130.899994  124.169998  125.070000   \n",
       "2023-01-04  126.889999  128.660004  125.080002  126.360001   \n",
       "2023-01-05  127.129997  127.769997  124.760002  125.019997   \n",
       "2023-01-06  126.010002  130.289993  124.889999  129.619995   \n",
       "2023-01-09  130.470001  133.410004  129.889999  130.149994   \n",
       "...                ...         ...         ...         ...   \n",
       "2023-12-22  195.179993  195.410004  192.970001  193.600006   \n",
       "2023-12-26  193.610001  193.889999  192.830002  193.050003   \n",
       "2023-12-27  192.490005  193.500000  191.089996  193.149994   \n",
       "2023-12-28  194.139999  194.660004  193.169998  193.580002   \n",
       "2023-12-29  193.899994  194.399994  191.729996  192.529999   \n",
       "\n",
       "            fechamento_ajustado     volume  \n",
       "data                                        \n",
       "2023-01-03           124.216301  112117500  \n",
       "2023-01-04           125.497498   89113600  \n",
       "2023-01-05           124.166641   80962700  \n",
       "2023-01-06           128.735229   87754700  \n",
       "2023-01-09           129.261627   70790800  \n",
       "...                         ...        ...  \n",
       "2023-12-22           193.353287   37122800  \n",
       "2023-12-26           192.803986   28919300  \n",
       "2023-12-27           192.903839   48087700  \n",
       "2023-12-28           193.333298   34049900  \n",
       "2023-12-29           192.284637   42628800  \n",
       "\n",
       "[250 rows x 6 columns]"
      ]
     },
     "execution_count": 23,
     "metadata": {},
     "output_type": "execute_result"
    }
   ],
   "source": [
    "df = df.rename_axis('data')\n",
    "df"
   ]
  },
  {
   "cell_type": "code",
   "execution_count": 24,
   "metadata": {},
   "outputs": [
    {
     "data": {
      "text/plain": [
       "<matplotlib.legend.Legend at 0x21b44fa8ad0>"
      ]
     },
     "execution_count": 24,
     "metadata": {},
     "output_type": "execute_result"
    },
    {
     "data": {
      "image/png": "[encoded data removed]",
      "text/plain": [
       "<Figure size 1000x600 with 1 Axes>"
      ]
     },
     "metadata": {},
     "output_type": "display_data"
    }
   ],
   "source": [
    "df['fechamento'].plot(figsize=(10,6))\n",
    "plt.title('Variacão do preço por data', fontsize = 16)\n",
    "plt.legend(['Fechamento'])"
   ]
  },
  {
   "cell_type": "code",
   "execution_count": 25,
   "metadata": {},
   "outputs": [
    {
     "data": {
      "text/html": [
       "<div>\n",
       "<style scoped>\n",
       "    .dataframe tbody tr th:only-of-type {\n",
       "        vertical-align: middle;\n",
       "    }\n",
       "\n",
       "    .dataframe tbody tr th {\n",
       "        vertical-align: top;\n",
       "    }\n",
       "\n",
       "    .dataframe thead th {\n",
       "        text-align: right;\n",
       "    }\n",
       "</style>\n",
       "<table border=\"1\" class=\"dataframe\">\n",
       "  <thead>\n",
       "    <tr style=\"text-align: right;\">\n",
       "      <th></th>\n",
       "      <th>abertura</th>\n",
       "      <th>maximo</th>\n",
       "      <th>minimo</th>\n",
       "      <th>fechamento</th>\n",
       "      <th>fechamento_ajustado</th>\n",
       "      <th>volume</th>\n",
       "      <th>data</th>\n",
       "    </tr>\n",
       "    <tr>\n",
       "      <th>data</th>\n",
       "      <th></th>\n",
       "      <th></th>\n",
       "      <th></th>\n",
       "      <th></th>\n",
       "      <th></th>\n",
       "      <th></th>\n",
       "      <th></th>\n",
       "    </tr>\n",
       "  </thead>\n",
       "  <tbody>\n",
       "    <tr>\n",
       "      <th>2023-01-03</th>\n",
       "      <td>130.279999</td>\n",
       "      <td>130.899994</td>\n",
       "      <td>124.169998</td>\n",
       "      <td>125.070000</td>\n",
       "      <td>124.216301</td>\n",
       "      <td>112117500</td>\n",
       "      <td>19360.0</td>\n",
       "    </tr>\n",
       "    <tr>\n",
       "      <th>2023-01-04</th>\n",
       "      <td>126.889999</td>\n",
       "      <td>128.660004</td>\n",
       "      <td>125.080002</td>\n",
       "      <td>126.360001</td>\n",
       "      <td>125.497498</td>\n",
       "      <td>89113600</td>\n",
       "      <td>19361.0</td>\n",
       "    </tr>\n",
       "    <tr>\n",
       "      <th>2023-01-05</th>\n",
       "      <td>127.129997</td>\n",
       "      <td>127.769997</td>\n",
       "      <td>124.760002</td>\n",
       "      <td>125.019997</td>\n",
       "      <td>124.166641</td>\n",
       "      <td>80962700</td>\n",
       "      <td>19362.0</td>\n",
       "    </tr>\n",
       "    <tr>\n",
       "      <th>2023-01-06</th>\n",
       "      <td>126.010002</td>\n",
       "      <td>130.289993</td>\n",
       "      <td>124.889999</td>\n",
       "      <td>129.619995</td>\n",
       "      <td>128.735229</td>\n",
       "      <td>87754700</td>\n",
       "      <td>19363.0</td>\n",
       "    </tr>\n",
       "    <tr>\n",
       "      <th>2023-01-09</th>\n",
       "      <td>130.470001</td>\n",
       "      <td>133.410004</td>\n",
       "      <td>129.889999</td>\n",
       "      <td>130.149994</td>\n",
       "      <td>129.261627</td>\n",
       "      <td>70790800</td>\n",
       "      <td>19366.0</td>\n",
       "    </tr>\n",
       "    <tr>\n",
       "      <th>2023-01-10</th>\n",
       "      <td>130.259995</td>\n",
       "      <td>131.259995</td>\n",
       "      <td>128.119995</td>\n",
       "      <td>130.729996</td>\n",
       "      <td>129.837662</td>\n",
       "      <td>63896200</td>\n",
       "      <td>19367.0</td>\n",
       "    </tr>\n",
       "    <tr>\n",
       "      <th>2023-01-11</th>\n",
       "      <td>131.250000</td>\n",
       "      <td>133.509995</td>\n",
       "      <td>130.460007</td>\n",
       "      <td>133.490005</td>\n",
       "      <td>132.578842</td>\n",
       "      <td>69458900</td>\n",
       "      <td>19368.0</td>\n",
       "    </tr>\n",
       "    <tr>\n",
       "      <th>2023-01-12</th>\n",
       "      <td>133.880005</td>\n",
       "      <td>134.259995</td>\n",
       "      <td>131.440002</td>\n",
       "      <td>133.410004</td>\n",
       "      <td>132.499374</td>\n",
       "      <td>71379600</td>\n",
       "      <td>19369.0</td>\n",
       "    </tr>\n",
       "    <tr>\n",
       "      <th>2023-01-13</th>\n",
       "      <td>132.029999</td>\n",
       "      <td>134.919998</td>\n",
       "      <td>131.660004</td>\n",
       "      <td>134.759995</td>\n",
       "      <td>133.840164</td>\n",
       "      <td>57809700</td>\n",
       "      <td>19370.0</td>\n",
       "    </tr>\n",
       "    <tr>\n",
       "      <th>2023-01-17</th>\n",
       "      <td>134.830002</td>\n",
       "      <td>137.289993</td>\n",
       "      <td>134.130005</td>\n",
       "      <td>135.940002</td>\n",
       "      <td>135.012115</td>\n",
       "      <td>63646600</td>\n",
       "      <td>19374.0</td>\n",
       "    </tr>\n",
       "    <tr>\n",
       "      <th>2023-01-18</th>\n",
       "      <td>136.820007</td>\n",
       "      <td>138.610001</td>\n",
       "      <td>135.029999</td>\n",
       "      <td>135.210007</td>\n",
       "      <td>134.287079</td>\n",
       "      <td>69672800</td>\n",
       "      <td>19375.0</td>\n",
       "    </tr>\n",
       "    <tr>\n",
       "      <th>2023-01-19</th>\n",
       "      <td>134.080002</td>\n",
       "      <td>136.250000</td>\n",
       "      <td>133.770004</td>\n",
       "      <td>135.270004</td>\n",
       "      <td>134.346680</td>\n",
       "      <td>58280400</td>\n",
       "      <td>19376.0</td>\n",
       "    </tr>\n",
       "    <tr>\n",
       "      <th>2023-01-20</th>\n",
       "      <td>135.279999</td>\n",
       "      <td>138.020004</td>\n",
       "      <td>134.220001</td>\n",
       "      <td>137.869995</td>\n",
       "      <td>136.928940</td>\n",
       "      <td>80223600</td>\n",
       "      <td>19377.0</td>\n",
       "    </tr>\n",
       "    <tr>\n",
       "      <th>2023-01-23</th>\n",
       "      <td>138.119995</td>\n",
       "      <td>143.320007</td>\n",
       "      <td>137.899994</td>\n",
       "      <td>141.110001</td>\n",
       "      <td>140.146820</td>\n",
       "      <td>81760300</td>\n",
       "      <td>19380.0</td>\n",
       "    </tr>\n",
       "    <tr>\n",
       "      <th>2023-01-24</th>\n",
       "      <td>140.309998</td>\n",
       "      <td>143.160004</td>\n",
       "      <td>140.300003</td>\n",
       "      <td>142.529999</td>\n",
       "      <td>141.557114</td>\n",
       "      <td>66435100</td>\n",
       "      <td>19381.0</td>\n",
       "    </tr>\n",
       "    <tr>\n",
       "      <th>2023-01-25</th>\n",
       "      <td>140.889999</td>\n",
       "      <td>142.429993</td>\n",
       "      <td>138.809998</td>\n",
       "      <td>141.860001</td>\n",
       "      <td>140.891693</td>\n",
       "      <td>65799300</td>\n",
       "      <td>19382.0</td>\n",
       "    </tr>\n",
       "    <tr>\n",
       "      <th>2023-01-26</th>\n",
       "      <td>143.169998</td>\n",
       "      <td>144.250000</td>\n",
       "      <td>141.899994</td>\n",
       "      <td>143.960007</td>\n",
       "      <td>142.977386</td>\n",
       "      <td>54105100</td>\n",
       "      <td>19383.0</td>\n",
       "    </tr>\n",
       "    <tr>\n",
       "      <th>2023-01-27</th>\n",
       "      <td>143.160004</td>\n",
       "      <td>147.229996</td>\n",
       "      <td>143.080002</td>\n",
       "      <td>145.929993</td>\n",
       "      <td>144.933914</td>\n",
       "      <td>70555800</td>\n",
       "      <td>19384.0</td>\n",
       "    </tr>\n",
       "    <tr>\n",
       "      <th>2023-01-30</th>\n",
       "      <td>144.960007</td>\n",
       "      <td>145.550003</td>\n",
       "      <td>142.850006</td>\n",
       "      <td>143.000000</td>\n",
       "      <td>142.023926</td>\n",
       "      <td>64015300</td>\n",
       "      <td>19387.0</td>\n",
       "    </tr>\n",
       "    <tr>\n",
       "      <th>2023-01-31</th>\n",
       "      <td>142.699997</td>\n",
       "      <td>144.339996</td>\n",
       "      <td>142.279999</td>\n",
       "      <td>144.289993</td>\n",
       "      <td>143.305115</td>\n",
       "      <td>65874500</td>\n",
       "      <td>19388.0</td>\n",
       "    </tr>\n",
       "    <tr>\n",
       "      <th>2023-02-01</th>\n",
       "      <td>143.970001</td>\n",
       "      <td>146.610001</td>\n",
       "      <td>141.320007</td>\n",
       "      <td>145.429993</td>\n",
       "      <td>144.437317</td>\n",
       "      <td>77663600</td>\n",
       "      <td>19389.0</td>\n",
       "    </tr>\n",
       "    <tr>\n",
       "      <th>2023-02-02</th>\n",
       "      <td>148.899994</td>\n",
       "      <td>151.179993</td>\n",
       "      <td>148.169998</td>\n",
       "      <td>150.820007</td>\n",
       "      <td>149.790558</td>\n",
       "      <td>118339000</td>\n",
       "      <td>19390.0</td>\n",
       "    </tr>\n",
       "    <tr>\n",
       "      <th>2023-02-03</th>\n",
       "      <td>148.029999</td>\n",
       "      <td>157.380005</td>\n",
       "      <td>147.830002</td>\n",
       "      <td>154.500000</td>\n",
       "      <td>153.445419</td>\n",
       "      <td>154357300</td>\n",
       "      <td>19391.0</td>\n",
       "    </tr>\n",
       "    <tr>\n",
       "      <th>2023-02-06</th>\n",
       "      <td>152.570007</td>\n",
       "      <td>153.100006</td>\n",
       "      <td>150.779999</td>\n",
       "      <td>151.729996</td>\n",
       "      <td>150.694305</td>\n",
       "      <td>69858300</td>\n",
       "      <td>19394.0</td>\n",
       "    </tr>\n",
       "    <tr>\n",
       "      <th>2023-02-07</th>\n",
       "      <td>150.639999</td>\n",
       "      <td>155.229996</td>\n",
       "      <td>150.639999</td>\n",
       "      <td>154.649994</td>\n",
       "      <td>153.594391</td>\n",
       "      <td>83322600</td>\n",
       "      <td>19395.0</td>\n",
       "    </tr>\n",
       "    <tr>\n",
       "      <th>2023-02-08</th>\n",
       "      <td>153.880005</td>\n",
       "      <td>154.580002</td>\n",
       "      <td>151.169998</td>\n",
       "      <td>151.919998</td>\n",
       "      <td>150.883011</td>\n",
       "      <td>64120100</td>\n",
       "      <td>19396.0</td>\n",
       "    </tr>\n",
       "    <tr>\n",
       "      <th>2023-02-09</th>\n",
       "      <td>153.779999</td>\n",
       "      <td>154.330002</td>\n",
       "      <td>150.419998</td>\n",
       "      <td>150.869995</td>\n",
       "      <td>149.840195</td>\n",
       "      <td>56007100</td>\n",
       "      <td>19397.0</td>\n",
       "    </tr>\n",
       "    <tr>\n",
       "      <th>2023-02-10</th>\n",
       "      <td>149.460007</td>\n",
       "      <td>151.339996</td>\n",
       "      <td>149.220001</td>\n",
       "      <td>151.009995</td>\n",
       "      <td>150.208221</td>\n",
       "      <td>57450700</td>\n",
       "      <td>19398.0</td>\n",
       "    </tr>\n",
       "    <tr>\n",
       "      <th>2023-02-13</th>\n",
       "      <td>150.949997</td>\n",
       "      <td>154.259995</td>\n",
       "      <td>150.919998</td>\n",
       "      <td>153.850006</td>\n",
       "      <td>153.033173</td>\n",
       "      <td>62199000</td>\n",
       "      <td>19401.0</td>\n",
       "    </tr>\n",
       "    <tr>\n",
       "      <th>2023-02-14</th>\n",
       "      <td>152.119995</td>\n",
       "      <td>153.770004</td>\n",
       "      <td>150.860001</td>\n",
       "      <td>153.199997</td>\n",
       "      <td>152.386597</td>\n",
       "      <td>61707600</td>\n",
       "      <td>19402.0</td>\n",
       "    </tr>\n",
       "    <tr>\n",
       "      <th>2023-02-15</th>\n",
       "      <td>153.110001</td>\n",
       "      <td>155.500000</td>\n",
       "      <td>152.880005</td>\n",
       "      <td>155.330002</td>\n",
       "      <td>154.505280</td>\n",
       "      <td>65573800</td>\n",
       "      <td>19403.0</td>\n",
       "    </tr>\n",
       "    <tr>\n",
       "      <th>2023-02-16</th>\n",
       "      <td>153.509995</td>\n",
       "      <td>156.330002</td>\n",
       "      <td>153.350006</td>\n",
       "      <td>153.710007</td>\n",
       "      <td>152.893890</td>\n",
       "      <td>68167900</td>\n",
       "      <td>19404.0</td>\n",
       "    </tr>\n",
       "    <tr>\n",
       "      <th>2023-02-17</th>\n",
       "      <td>152.350006</td>\n",
       "      <td>153.000000</td>\n",
       "      <td>150.850006</td>\n",
       "      <td>152.550003</td>\n",
       "      <td>151.740067</td>\n",
       "      <td>59144100</td>\n",
       "      <td>19405.0</td>\n",
       "    </tr>\n",
       "    <tr>\n",
       "      <th>2023-02-21</th>\n",
       "      <td>150.199997</td>\n",
       "      <td>151.300003</td>\n",
       "      <td>148.410004</td>\n",
       "      <td>148.479996</td>\n",
       "      <td>147.691666</td>\n",
       "      <td>58867200</td>\n",
       "      <td>19409.0</td>\n",
       "    </tr>\n",
       "    <tr>\n",
       "      <th>2023-02-22</th>\n",
       "      <td>148.869995</td>\n",
       "      <td>149.949997</td>\n",
       "      <td>147.160004</td>\n",
       "      <td>148.910004</td>\n",
       "      <td>148.119370</td>\n",
       "      <td>51011300</td>\n",
       "      <td>19410.0</td>\n",
       "    </tr>\n",
       "    <tr>\n",
       "      <th>2023-02-23</th>\n",
       "      <td>150.089996</td>\n",
       "      <td>150.339996</td>\n",
       "      <td>147.240005</td>\n",
       "      <td>149.399994</td>\n",
       "      <td>148.606766</td>\n",
       "      <td>48394200</td>\n",
       "      <td>19411.0</td>\n",
       "    </tr>\n",
       "    <tr>\n",
       "      <th>2023-02-24</th>\n",
       "      <td>147.110001</td>\n",
       "      <td>147.190002</td>\n",
       "      <td>145.720001</td>\n",
       "      <td>146.710007</td>\n",
       "      <td>145.931076</td>\n",
       "      <td>55469600</td>\n",
       "      <td>19412.0</td>\n",
       "    </tr>\n",
       "    <tr>\n",
       "      <th>2023-02-27</th>\n",
       "      <td>147.710007</td>\n",
       "      <td>149.169998</td>\n",
       "      <td>147.449997</td>\n",
       "      <td>147.919998</td>\n",
       "      <td>147.134644</td>\n",
       "      <td>44998500</td>\n",
       "      <td>19415.0</td>\n",
       "    </tr>\n",
       "    <tr>\n",
       "      <th>2023-02-28</th>\n",
       "      <td>147.050003</td>\n",
       "      <td>149.080002</td>\n",
       "      <td>146.830002</td>\n",
       "      <td>147.410004</td>\n",
       "      <td>146.627335</td>\n",
       "      <td>50547000</td>\n",
       "      <td>19416.0</td>\n",
       "    </tr>\n",
       "    <tr>\n",
       "      <th>2023-03-01</th>\n",
       "      <td>146.830002</td>\n",
       "      <td>147.229996</td>\n",
       "      <td>145.009995</td>\n",
       "      <td>145.309998</td>\n",
       "      <td>144.538498</td>\n",
       "      <td>55479000</td>\n",
       "      <td>19417.0</td>\n",
       "    </tr>\n",
       "    <tr>\n",
       "      <th>2023-03-02</th>\n",
       "      <td>144.380005</td>\n",
       "      <td>146.710007</td>\n",
       "      <td>143.899994</td>\n",
       "      <td>145.910004</td>\n",
       "      <td>145.135330</td>\n",
       "      <td>52238100</td>\n",
       "      <td>19418.0</td>\n",
       "    </tr>\n",
       "    <tr>\n",
       "      <th>2023-03-03</th>\n",
       "      <td>148.039993</td>\n",
       "      <td>151.110001</td>\n",
       "      <td>147.330002</td>\n",
       "      <td>151.029999</td>\n",
       "      <td>150.228134</td>\n",
       "      <td>70732300</td>\n",
       "      <td>19419.0</td>\n",
       "    </tr>\n",
       "    <tr>\n",
       "      <th>2023-03-06</th>\n",
       "      <td>153.789993</td>\n",
       "      <td>156.300003</td>\n",
       "      <td>153.460007</td>\n",
       "      <td>153.830002</td>\n",
       "      <td>153.013275</td>\n",
       "      <td>87558000</td>\n",
       "      <td>19422.0</td>\n",
       "    </tr>\n",
       "    <tr>\n",
       "      <th>2023-03-07</th>\n",
       "      <td>153.699997</td>\n",
       "      <td>154.029999</td>\n",
       "      <td>151.130005</td>\n",
       "      <td>151.600006</td>\n",
       "      <td>150.795120</td>\n",
       "      <td>56182000</td>\n",
       "      <td>19423.0</td>\n",
       "    </tr>\n",
       "    <tr>\n",
       "      <th>2023-03-08</th>\n",
       "      <td>152.809998</td>\n",
       "      <td>153.470001</td>\n",
       "      <td>151.830002</td>\n",
       "      <td>152.869995</td>\n",
       "      <td>152.058350</td>\n",
       "      <td>47204800</td>\n",
       "      <td>19424.0</td>\n",
       "    </tr>\n",
       "    <tr>\n",
       "      <th>2023-03-09</th>\n",
       "      <td>153.559998</td>\n",
       "      <td>154.539993</td>\n",
       "      <td>150.229996</td>\n",
       "      <td>150.589996</td>\n",
       "      <td>149.790466</td>\n",
       "      <td>53833600</td>\n",
       "      <td>19425.0</td>\n",
       "    </tr>\n",
       "    <tr>\n",
       "      <th>2023-03-10</th>\n",
       "      <td>150.210007</td>\n",
       "      <td>150.940002</td>\n",
       "      <td>147.610001</td>\n",
       "      <td>148.500000</td>\n",
       "      <td>147.711563</td>\n",
       "      <td>68572400</td>\n",
       "      <td>19426.0</td>\n",
       "    </tr>\n",
       "    <tr>\n",
       "      <th>2023-03-13</th>\n",
       "      <td>147.809998</td>\n",
       "      <td>153.139999</td>\n",
       "      <td>147.699997</td>\n",
       "      <td>150.470001</td>\n",
       "      <td>149.671112</td>\n",
       "      <td>84457100</td>\n",
       "      <td>19429.0</td>\n",
       "    </tr>\n",
       "    <tr>\n",
       "      <th>2023-03-14</th>\n",
       "      <td>151.279999</td>\n",
       "      <td>153.399994</td>\n",
       "      <td>150.100006</td>\n",
       "      <td>152.589996</td>\n",
       "      <td>151.779831</td>\n",
       "      <td>73695900</td>\n",
       "      <td>19430.0</td>\n",
       "    </tr>\n",
       "    <tr>\n",
       "      <th>2023-03-15</th>\n",
       "      <td>151.190002</td>\n",
       "      <td>153.250000</td>\n",
       "      <td>149.919998</td>\n",
       "      <td>152.990005</td>\n",
       "      <td>152.177719</td>\n",
       "      <td>77167900</td>\n",
       "      <td>19431.0</td>\n",
       "    </tr>\n",
       "    <tr>\n",
       "      <th>2023-03-16</th>\n",
       "      <td>152.160004</td>\n",
       "      <td>156.460007</td>\n",
       "      <td>151.639999</td>\n",
       "      <td>155.850006</td>\n",
       "      <td>155.022537</td>\n",
       "      <td>76161100</td>\n",
       "      <td>19432.0</td>\n",
       "    </tr>\n",
       "    <tr>\n",
       "      <th>2023-03-17</th>\n",
       "      <td>156.080002</td>\n",
       "      <td>156.740005</td>\n",
       "      <td>154.279999</td>\n",
       "      <td>155.000000</td>\n",
       "      <td>154.177048</td>\n",
       "      <td>98944600</td>\n",
       "      <td>19433.0</td>\n",
       "    </tr>\n",
       "    <tr>\n",
       "      <th>2023-03-20</th>\n",
       "      <td>155.070007</td>\n",
       "      <td>157.820007</td>\n",
       "      <td>154.149994</td>\n",
       "      <td>157.399994</td>\n",
       "      <td>156.564301</td>\n",
       "      <td>73641400</td>\n",
       "      <td>19436.0</td>\n",
       "    </tr>\n",
       "    <tr>\n",
       "      <th>2023-03-21</th>\n",
       "      <td>157.320007</td>\n",
       "      <td>159.399994</td>\n",
       "      <td>156.539993</td>\n",
       "      <td>159.279999</td>\n",
       "      <td>158.434311</td>\n",
       "      <td>73938300</td>\n",
       "      <td>19437.0</td>\n",
       "    </tr>\n",
       "    <tr>\n",
       "      <th>2023-03-22</th>\n",
       "      <td>159.300003</td>\n",
       "      <td>162.139999</td>\n",
       "      <td>157.809998</td>\n",
       "      <td>157.830002</td>\n",
       "      <td>156.992020</td>\n",
       "      <td>75701800</td>\n",
       "      <td>19438.0</td>\n",
       "    </tr>\n",
       "    <tr>\n",
       "      <th>2023-03-23</th>\n",
       "      <td>158.830002</td>\n",
       "      <td>161.550003</td>\n",
       "      <td>157.679993</td>\n",
       "      <td>158.929993</td>\n",
       "      <td>158.086182</td>\n",
       "      <td>67622100</td>\n",
       "      <td>19439.0</td>\n",
       "    </tr>\n",
       "    <tr>\n",
       "      <th>2023-03-24</th>\n",
       "      <td>158.860001</td>\n",
       "      <td>160.339996</td>\n",
       "      <td>157.850006</td>\n",
       "      <td>160.250000</td>\n",
       "      <td>159.399185</td>\n",
       "      <td>59196500</td>\n",
       "      <td>19440.0</td>\n",
       "    </tr>\n",
       "    <tr>\n",
       "      <th>2023-03-27</th>\n",
       "      <td>159.940002</td>\n",
       "      <td>160.770004</td>\n",
       "      <td>157.869995</td>\n",
       "      <td>158.279999</td>\n",
       "      <td>157.439621</td>\n",
       "      <td>52390300</td>\n",
       "      <td>19443.0</td>\n",
       "    </tr>\n",
       "    <tr>\n",
       "      <th>2023-03-28</th>\n",
       "      <td>157.970001</td>\n",
       "      <td>158.490005</td>\n",
       "      <td>155.979996</td>\n",
       "      <td>157.649994</td>\n",
       "      <td>156.812973</td>\n",
       "      <td>45992200</td>\n",
       "      <td>19444.0</td>\n",
       "    </tr>\n",
       "    <tr>\n",
       "      <th>2023-03-29</th>\n",
       "      <td>159.369995</td>\n",
       "      <td>161.050003</td>\n",
       "      <td>159.350006</td>\n",
       "      <td>160.770004</td>\n",
       "      <td>159.916412</td>\n",
       "      <td>51305700</td>\n",
       "      <td>19445.0</td>\n",
       "    </tr>\n",
       "  </tbody>\n",
       "</table>\n",
       "</div>"
      ],
      "text/plain": [
       "              abertura      maximo      minimo  fechamento  \\\n",
       "data                                                         \n",
       "2023-01-03  130.279999  130.899994  124.169998  125.070000   \n",
       "2023-01-04  126.889999  128.660004  125.080002  126.360001   \n",
       "2023-01-05  127.129997  127.769997  124.760002  125.019997   \n",
       "2023-01-06  126.010002  130.289993  124.889999  129.619995   \n",
       "2023-01-09  130.470001  133.410004  129.889999  130.149994   \n",
       "2023-01-10  130.259995  131.259995  128.119995  130.729996   \n",
       "2023-01-11  131.250000  133.509995  130.460007  133.490005   \n",
       "2023-01-12  133.880005  134.259995  131.440002  133.410004   \n",
       "2023-01-13  132.029999  134.919998  131.660004  134.759995   \n",
       "2023-01-17  134.830002  137.289993  134.130005  135.940002   \n",
       "2023-01-18  136.820007  138.610001  135.029999  135.210007   \n",
       "2023-01-19  134.080002  136.250000  133.770004  135.270004   \n",
       "2023-01-20  135.279999  138.020004  134.220001  137.869995   \n",
       "2023-01-23  138.119995  143.320007  137.899994  141.110001   \n",
       "2023-01-24  140.309998  143.160004  140.300003  142.529999   \n",
       "2023-01-25  140.889999  142.429993  138.809998  141.860001   \n",
       "2023-01-26  143.169998  144.250000  141.899994  143.960007   \n",
       "2023-01-27  143.160004  147.229996  143.080002  145.929993   \n",
       "2023-01-30  144.960007  145.550003  142.850006  143.000000   \n",
       "2023-01-31  142.699997  144.339996  142.279999  144.289993   \n",
       "2023-02-01  143.970001  146.610001  141.320007  145.429993   \n",
       "2023-02-02  148.899994  151.179993  148.169998  150.820007   \n",
       "2023-02-03  148.029999  157.380005  147.830002  154.500000   \n",
       "2023-02-06  152.570007  153.100006  150.779999  151.729996   \n",
       "2023-02-07  150.639999  155.229996  150.639999  154.649994   \n",
       "2023-02-08  153.880005  154.580002  151.169998  151.919998   \n",
       "2023-02-09  153.779999  154.330002  150.419998  150.869995   \n",
       "2023-02-10  149.460007  151.339996  149.220001  151.009995   \n",
       "2023-02-13  150.949997  154.259995  150.919998  153.850006   \n",
       "2023-02-14  152.119995  153.770004  150.860001  153.199997   \n",
       "2023-02-15  153.110001  155.500000  152.880005  155.330002   \n",
       "2023-02-16  153.509995  156.330002  153.350006  153.710007   \n",
       "2023-02-17  152.350006  153.000000  150.850006  152.550003   \n",
       "2023-02-21  150.199997  151.300003  148.410004  148.479996   \n",
       "2023-02-22  148.869995  149.949997  147.160004  148.910004   \n",
       "2023-02-23  150.089996  150.339996  147.240005  149.399994   \n",
       "2023-02-24  147.110001  147.190002  145.720001  146.710007   \n",
       "2023-02-27  147.710007  149.169998  147.449997  147.919998   \n",
       "2023-02-28  147.050003  149.080002  146.830002  147.410004   \n",
       "2023-03-01  146.830002  147.229996  145.009995  145.309998   \n",
       "2023-03-02  144.380005  146.710007  143.899994  145.910004   \n",
       "2023-03-03  148.039993  151.110001  147.330002  151.029999   \n",
       "2023-03-06  153.789993  156.300003  153.460007  153.830002   \n",
       "2023-03-07  153.699997  154.029999  151.130005  151.600006   \n",
       "2023-03-08  152.809998  153.470001  151.830002  152.869995   \n",
       "2023-03-09  153.559998  154.539993  150.229996  150.589996   \n",
       "2023-03-10  150.210007  150.940002  147.610001  148.500000   \n",
       "2023-03-13  147.809998  153.139999  147.699997  150.470001   \n",
       "2023-03-14  151.279999  153.399994  150.100006  152.589996   \n",
       "2023-03-15  151.190002  153.250000  149.919998  152.990005   \n",
       "2023-03-16  152.160004  156.460007  151.639999  155.850006   \n",
       "2023-03-17  156.080002  156.740005  154.279999  155.000000   \n",
       "2023-03-20  155.070007  157.820007  154.149994  157.399994   \n",
       "2023-03-21  157.320007  159.399994  156.539993  159.279999   \n",
       "2023-03-22  159.300003  162.139999  157.809998  157.830002   \n",
       "2023-03-23  158.830002  161.550003  157.679993  158.929993   \n",
       "2023-03-24  158.860001  160.339996  157.850006  160.250000   \n",
       "2023-03-27  159.940002  160.770004  157.869995  158.279999   \n",
       "2023-03-28  157.970001  158.490005  155.979996  157.649994   \n",
       "2023-03-29  159.369995  161.050003  159.350006  160.770004   \n",
       "\n",
       "            fechamento_ajustado     volume     data  \n",
       "data                                                 \n",
       "2023-01-03           124.216301  112117500  19360.0  \n",
       "2023-01-04           125.497498   89113600  19361.0  \n",
       "2023-01-05           124.166641   80962700  19362.0  \n",
       "2023-01-06           128.735229   87754700  19363.0  \n",
       "2023-01-09           129.261627   70790800  19366.0  \n",
       "2023-01-10           129.837662   63896200  19367.0  \n",
       "2023-01-11           132.578842   69458900  19368.0  \n",
       "2023-01-12           132.499374   71379600  19369.0  \n",
       "2023-01-13           133.840164   57809700  19370.0  \n",
       "2023-01-17           135.012115   63646600  19374.0  \n",
       "2023-01-18           134.287079   69672800  19375.0  \n",
       "2023-01-19           134.346680   58280400  19376.0  \n",
       "2023-01-20           136.928940   80223600  19377.0  \n",
       "2023-01-23           140.146820   81760300  19380.0  \n",
       "2023-01-24           141.557114   66435100  19381.0  \n",
       "2023-01-25           140.891693   65799300  19382.0  \n",
       "2023-01-26           142.977386   54105100  19383.0  \n",
       "2023-01-27           144.933914   70555800  19384.0  \n",
       "2023-01-30           142.023926   64015300  19387.0  \n",
       "2023-01-31           143.305115   65874500  19388.0  \n",
       "2023-02-01           144.437317   77663600  19389.0  \n",
       "2023-02-02           149.790558  118339000  19390.0  \n",
       "2023-02-03           153.445419  154357300  19391.0  \n",
       "2023-02-06           150.694305   69858300  19394.0  \n",
       "2023-02-07           153.594391   83322600  19395.0  \n",
       "2023-02-08           150.883011   64120100  19396.0  \n",
       "2023-02-09           149.840195   56007100  19397.0  \n",
       "2023-02-10           150.208221   57450700  19398.0  \n",
       "2023-02-13           153.033173   62199000  19401.0  \n",
       "2023-02-14           152.386597   61707600  19402.0  \n",
       "2023-02-15           154.505280   65573800  19403.0  \n",
       "2023-02-16           152.893890   68167900  19404.0  \n",
       "2023-02-17           151.740067   59144100  19405.0  \n",
       "2023-02-21           147.691666   58867200  19409.0  \n",
       "2023-02-22           148.119370   51011300  19410.0  \n",
       "2023-02-23           148.606766   48394200  19411.0  \n",
       "2023-02-24           145.931076   55469600  19412.0  \n",
       "2023-02-27           147.134644   44998500  19415.0  \n",
       "2023-02-28           146.627335   50547000  19416.0  \n",
       "2023-03-01           144.538498   55479000  19417.0  \n",
       "2023-03-02           145.135330   52238100  19418.0  \n",
       "2023-03-03           150.228134   70732300  19419.0  \n",
       "2023-03-06           153.013275   87558000  19422.0  \n",
       "2023-03-07           150.795120   56182000  19423.0  \n",
       "2023-03-08           152.058350   47204800  19424.0  \n",
       "2023-03-09           149.790466   53833600  19425.0  \n",
       "2023-03-10           147.711563   68572400  19426.0  \n",
       "2023-03-13           149.671112   84457100  19429.0  \n",
       "2023-03-14           151.779831   73695900  19430.0  \n",
       "2023-03-15           152.177719   77167900  19431.0  \n",
       "2023-03-16           155.022537   76161100  19432.0  \n",
       "2023-03-17           154.177048   98944600  19433.0  \n",
       "2023-03-20           156.564301   73641400  19436.0  \n",
       "2023-03-21           158.434311   73938300  19437.0  \n",
       "2023-03-22           156.992020   75701800  19438.0  \n",
       "2023-03-23           158.086182   67622100  19439.0  \n",
       "2023-03-24           159.399185   59196500  19440.0  \n",
       "2023-03-27           157.439621   52390300  19443.0  \n",
       "2023-03-28           156.812973   45992200  19444.0  \n",
       "2023-03-29           159.916412   51305700  19445.0  "
      ]
     },
     "execution_count": 25,
     "metadata": {},
     "output_type": "execute_result"
    }
   ],
   "source": [
    "df_menor = df.head(60).copy()\n",
    "df_menor['data'] = df_menor.index\n",
    "df_menor['data'] = df_menor['data'].apply(mdates.date2num)\n",
    "df_menor"
   ]
  },
  {
   "cell_type": "code",
   "execution_count": 26,
   "metadata": {},
   "outputs": [],
   "source": [
    "def get_candle_color(i, df):\n",
    "    if (df['fechamento'].iloc[i] > df['abertura'].iloc[i]):\n",
    "        return 'green'\n",
    "    return 'red'\n",
    "\n",
    "def plot_candle(ax, i, df, color):\n",
    "    data = df['data'].iloc[i]\n",
    "    minimo = df['minimo'].iloc[i]\n",
    "    maximo = df['maximo'].iloc[i]\n",
    "    abertura = df['abertura'].iloc[i]\n",
    "    fechamento = df['fechamento'].iloc[i]\n",
    "\n",
    "    ax.plot([data, data],\n",
    "            [minimo, maximo],\n",
    "            color=color,\n",
    "            linewidth=1)\n",
    "    \n",
    "    width = 0.7\n",
    "    \n",
    "    ax.add_patch(plt.Rectangle(\n",
    "        (data - width/2, min(abertura, fechamento)),\n",
    "        width,\n",
    "        abs(fechamento - abertura),\n",
    "        facecolor=color\n",
    "    ))\n",
    "\n",
    "def calculate_media_movel(df, numero_dias):\n",
    "    return df['fechamento'].rolling(window=numero_dias).mean()\n",
    "\n",
    "# Não funcionou\n",
    "# def plot_media_movel(ax, df, nome_coluna, color, label):\n",
    "#     ax.plot(\n",
    "#         df['data'],\n",
    "#         df[nome_coluna],\n",
    "#         color=color,\n",
    "#         label=label)"
   ]
  },
  {
   "cell_type": "code",
   "execution_count": 33,
   "metadata": {},
   "outputs": [
    {
     "data": {
      "image/png": "[encoded data removed]",
      "text/plain": [
       "<Figure size 1600x1000 with 1 Axes>"
      ]
     },
     "metadata": {},
     "output_type": "display_data"
    }
   ],
   "source": [
    "fig, ax = plt.subplots(figsize=(16,10))\n",
    "\n",
    "for i in range(len(df_menor)):\n",
    "    color = get_candle_color(i, df_menor)\n",
    "    plot_candle(ax, i, df_menor, color)\n",
    "\n",
    "df_menor['media_movel_7_dias'] = calculate_media_movel(df_menor, 7)\n",
    "df_menor['media_movel_14_dias'] = calculate_media_movel(df_menor, 14)\n",
    "\n",
    "ax.plot(\n",
    "    df_menor['data'],\n",
    "    df_menor['media_movel_7_dias'],\n",
    "    color='orange',\n",
    "    label='Média móvel 7 dias')\n",
    "\n",
    "ax.plot(\n",
    "    df_menor['data'],\n",
    "    df_menor['media_movel_14_dias'],\n",
    "    color='yellow',\n",
    "    label='Média móvel 14 dias')\n",
    "\n",
    "ax.legend()\n",
    "\n",
    "ax.xaxis_date()\n",
    "ax.xaxis.set_major_formatter(mdates.DateFormatter('%d/%m/%Y'))\n",
    "plt.xticks(rotation=45)\n",
    "\n",
    "plt.title('Gráfico de candlestick (%s)'%nome_acao)\n",
    "plt.xlabel('Data')\n",
    "plt.ylabel('Preço')\n",
    "plt.grid(True)\n",
    "plt.show()"
   ]
  },
  {
   "cell_type": "code",
   "execution_count": 28,
   "metadata": {},
   "outputs": [
    {
     "data": {
      "application/vnd.plotly.v1+json": {
       "config": {
        "plotlyServerURL": "https://plot.ly"
       },
       "data": [
        {
         "close": [
          125.06999969482422,
          126.36000061035156,
          125.0199966430664,
          129.6199951171875,
          130.14999389648438,
          130.72999572753906,
          133.49000549316406,
          133.41000366210938,
          134.75999450683594,
          135.94000244140625,
          135.2100067138672,
          135.27000427246094,
          137.8699951171875,
          141.11000061035156,
          142.52999877929688,
          141.86000061035156,
          143.9600067138672,
          145.92999267578125,
          143,
          144.2899932861328,
          145.42999267578125,
          150.82000732421875,
          154.5,
          151.72999572753906,
          154.64999389648438,
          151.9199981689453,
          150.8699951171875,
          151.00999450683594,
          153.85000610351562,
          153.1999969482422,
          155.3300018310547,
          153.7100067138672,
          152.5500030517578,
          148.47999572753906,
          148.91000366210938,
          149.39999389648438,
          146.7100067138672,
          147.9199981689453,
          147.41000366210938,
          145.30999755859375,
          145.91000366210938,
          151.02999877929688,
          153.8300018310547,
          151.60000610351562,
          152.8699951171875,
          150.58999633789062,
          148.5,
          150.47000122070312,
          152.58999633789062,
          152.99000549316406,
          155.85000610351562,
          155,
          157.39999389648438,
          159.27999877929688,
          157.8300018310547,
          158.92999267578125,
          160.25,
          158.27999877929688,
          157.64999389648438,
          160.77000427246094
         ],
         "high": [
          130.89999389648438,
          128.66000366210938,
          127.7699966430664,
          130.2899932861328,
          133.41000366210938,
          131.25999450683594,
          133.50999450683594,
          134.25999450683594,
          134.9199981689453,
          137.2899932861328,
          138.61000061035156,
          136.25,
          138.02000427246094,
          143.32000732421875,
          143.16000366210938,
          142.42999267578125,
          144.25,
          147.22999572753906,
          145.5500030517578,
          144.33999633789062,
          146.61000061035156,
          151.17999267578125,
          157.3800048828125,
          153.10000610351562,
          155.22999572753906,
          154.5800018310547,
          154.3300018310547,
          151.33999633789062,
          154.25999450683594,
          153.77000427246094,
          155.5,
          156.3300018310547,
          153,
          151.3000030517578,
          149.9499969482422,
          150.33999633789062,
          147.19000244140625,
          149.1699981689453,
          149.0800018310547,
          147.22999572753906,
          146.7100067138672,
          151.11000061035156,
          156.3000030517578,
          154.02999877929688,
          153.47000122070312,
          154.5399932861328,
          150.94000244140625,
          153.13999938964844,
          153.39999389648438,
          153.25,
          156.4600067138672,
          156.74000549316406,
          157.82000732421875,
          159.39999389648438,
          162.13999938964844,
          161.5500030517578,
          160.33999633789062,
          160.77000427246094,
          158.49000549316406,
          161.0500030517578
         ],
         "low": [
          124.16999816894531,
          125.08000183105469,
          124.76000213623047,
          124.88999938964844,
          129.88999938964844,
          128.1199951171875,
          130.4600067138672,
          131.44000244140625,
          131.66000366210938,
          134.1300048828125,
          135.02999877929688,
          133.77000427246094,
          134.22000122070312,
          137.89999389648438,
          140.3000030517578,
          138.80999755859375,
          141.89999389648438,
          143.0800018310547,
          142.85000610351562,
          142.27999877929688,
          141.32000732421875,
          148.1699981689453,
          147.8300018310547,
          150.77999877929688,
          150.63999938964844,
          151.1699981689453,
          150.4199981689453,
          149.22000122070312,
          150.9199981689453,
          150.86000061035156,
          152.8800048828125,
          153.35000610351562,
          150.85000610351562,
          148.41000366210938,
          147.16000366210938,
          147.24000549316406,
          145.72000122070312,
          147.4499969482422,
          146.8300018310547,
          145.00999450683594,
          143.89999389648438,
          147.3300018310547,
          153.4600067138672,
          151.1300048828125,
          151.8300018310547,
          150.22999572753906,
          147.61000061035156,
          147.6999969482422,
          150.10000610351562,
          149.9199981689453,
          151.63999938964844,
          154.27999877929688,
          154.14999389648438,
          156.5399932861328,
          157.80999755859375,
          157.67999267578125,
          157.85000610351562,
          157.8699951171875,
          155.97999572753906,
          159.35000610351562
         ],
         "name": "Candlestick",
         "open": [
          130.27999877929688,
          126.88999938964844,
          127.12999725341797,
          126.01000213623047,
          130.47000122070312,
          130.25999450683594,
          131.25,
          133.8800048828125,
          132.02999877929688,
          134.8300018310547,
          136.82000732421875,
          134.0800018310547,
          135.27999877929688,
          138.1199951171875,
          140.30999755859375,
          140.88999938964844,
          143.1699981689453,
          143.16000366210938,
          144.9600067138672,
          142.6999969482422,
          143.97000122070312,
          148.89999389648438,
          148.02999877929688,
          152.57000732421875,
          150.63999938964844,
          153.8800048828125,
          153.77999877929688,
          149.4600067138672,
          150.9499969482422,
          152.1199951171875,
          153.11000061035156,
          153.50999450683594,
          152.35000610351562,
          150.1999969482422,
          148.8699951171875,
          150.08999633789062,
          147.11000061035156,
          147.7100067138672,
          147.0500030517578,
          146.8300018310547,
          144.3800048828125,
          148.0399932861328,
          153.7899932861328,
          153.6999969482422,
          152.80999755859375,
          153.55999755859375,
          150.2100067138672,
          147.80999755859375,
          151.27999877929688,
          151.19000244140625,
          152.16000366210938,
          156.0800018310547,
          155.07000732421875,
          157.32000732421875,
          159.3000030517578,
          158.8300018310547,
          158.86000061035156,
          159.94000244140625,
          157.97000122070312,
          159.3699951171875
         ],
         "type": "candlestick",
         "x": [
          "2023-01-03T00:00:00",
          "2023-01-04T00:00:00",
          "2023-01-05T00:00:00",
          "2023-01-06T00:00:00",
          "2023-01-09T00:00:00",
          "2023-01-10T00:00:00",
          "2023-01-11T00:00:00",
          "2023-01-12T00:00:00",
          "2023-01-13T00:00:00",
          "2023-01-17T00:00:00",
          "2023-01-18T00:00:00",
          "2023-01-19T00:00:00",
          "2023-01-20T00:00:00",
          "2023-01-23T00:00:00",
          "2023-01-24T00:00:00",
          "2023-01-25T00:00:00",
          "2023-01-26T00:00:00",
          "2023-01-27T00:00:00",
          "2023-01-30T00:00:00",
          "2023-01-31T00:00:00",
          "2023-02-01T00:00:00",
          "2023-02-02T00:00:00",
          "2023-02-03T00:00:00",
          "2023-02-06T00:00:00",
          "2023-02-07T00:00:00",
          "2023-02-08T00:00:00",
          "2023-02-09T00:00:00",
          "2023-02-10T00:00:00",
          "2023-02-13T00:00:00",
          "2023-02-14T00:00:00",
          "2023-02-15T00:00:00",
          "2023-02-16T00:00:00",
          "2023-02-17T00:00:00",
          "2023-02-21T00:00:00",
          "2023-02-22T00:00:00",
          "2023-02-23T00:00:00",
          "2023-02-24T00:00:00",
          "2023-02-27T00:00:00",
          "2023-02-28T00:00:00",
          "2023-03-01T00:00:00",
          "2023-03-02T00:00:00",
          "2023-03-03T00:00:00",
          "2023-03-06T00:00:00",
          "2023-03-07T00:00:00",
          "2023-03-08T00:00:00",
          "2023-03-09T00:00:00",
          "2023-03-10T00:00:00",
          "2023-03-13T00:00:00",
          "2023-03-14T00:00:00",
          "2023-03-15T00:00:00",
          "2023-03-16T00:00:00",
          "2023-03-17T00:00:00",
          "2023-03-20T00:00:00",
          "2023-03-21T00:00:00",
          "2023-03-22T00:00:00",
          "2023-03-23T00:00:00",
          "2023-03-24T00:00:00",
          "2023-03-27T00:00:00",
          "2023-03-28T00:00:00",
          "2023-03-29T00:00:00"
         ],
         "xaxis": "x",
         "yaxis": "y"
        },
        {
         "mode": "lines",
         "name": "Média móvel 7 dias",
         "type": "scatter",
         "x": [
          "2023-01-03T00:00:00",
          "2023-01-04T00:00:00",
          "2023-01-05T00:00:00",
          "2023-01-06T00:00:00",
          "2023-01-09T00:00:00",
          "2023-01-10T00:00:00",
          "2023-01-11T00:00:00",
          "2023-01-12T00:00:00",
          "2023-01-13T00:00:00",
          "2023-01-17T00:00:00",
          "2023-01-18T00:00:00",
          "2023-01-19T00:00:00",
          "2023-01-20T00:00:00",
          "2023-01-23T00:00:00",
          "2023-01-24T00:00:00",
          "2023-01-25T00:00:00",
          "2023-01-26T00:00:00",
          "2023-01-27T00:00:00",
          "2023-01-30T00:00:00",
          "2023-01-31T00:00:00",
          "2023-02-01T00:00:00",
          "2023-02-02T00:00:00",
          "2023-02-03T00:00:00",
          "2023-02-06T00:00:00",
          "2023-02-07T00:00:00",
          "2023-02-08T00:00:00",
          "2023-02-09T00:00:00",
          "2023-02-10T00:00:00",
          "2023-02-13T00:00:00",
          "2023-02-14T00:00:00",
          "2023-02-15T00:00:00",
          "2023-02-16T00:00:00",
          "2023-02-17T00:00:00",
          "2023-02-21T00:00:00",
          "2023-02-22T00:00:00",
          "2023-02-23T00:00:00",
          "2023-02-24T00:00:00",
          "2023-02-27T00:00:00",
          "2023-02-28T00:00:00",
          "2023-03-01T00:00:00",
          "2023-03-02T00:00:00",
          "2023-03-03T00:00:00",
          "2023-03-06T00:00:00",
          "2023-03-07T00:00:00",
          "2023-03-08T00:00:00",
          "2023-03-09T00:00:00",
          "2023-03-10T00:00:00",
          "2023-03-13T00:00:00",
          "2023-03-14T00:00:00",
          "2023-03-15T00:00:00",
          "2023-03-16T00:00:00",
          "2023-03-17T00:00:00",
          "2023-03-20T00:00:00",
          "2023-03-21T00:00:00",
          "2023-03-22T00:00:00",
          "2023-03-23T00:00:00",
          "2023-03-24T00:00:00",
          "2023-03-27T00:00:00",
          "2023-03-28T00:00:00",
          "2023-03-29T00:00:00"
         ],
         "xaxis": "x",
         "y": [
          null,
          null,
          null,
          null,
          null,
          null,
          128.63428388323103,
          129.82571302141463,
          131.0257121494838,
          132.58571297781808,
          133.38428606305803,
          134.11571611676897,
          135.1357160295759,
          136.22428676060267,
          137.52714320591517,
          138.5414297921317,
          139.68714468819755,
          141.21857125418526,
          142.32285635811942,
          143.23999895368303,
          143.85714067731584,
          145.0414276123047,
          146.8471418108259,
          147.95714024135046,
          149.2028547014509,
          150.47714015415735,
          151.4171404157366,
          152.2142835344587,
          152.6471405029297,
          152.46142578125,
          152.9757123674665,
          152.84142848423548,
          152.93142918178015,
          152.59000069754464,
          152.29000200544084,
          151.65428597586495,
          150.7271445138114,
          149.66857256208147,
          148.76857212611608,
          147.73428562709265,
          147.36714390345983,
          147.67000034877233,
          148.30285862513952,
          149.00142996651786,
          149.7085723876953,
          150.16285705566406,
          150.61857169015067,
          151.26999991280692,
          151.49285670689173,
          151.37285723005022,
          151.98000008719308,
          152.28428649902344,
          153.25714329310827,
          154.7971431187221,
          155.84857177734375,
          156.75428553989954,
          157.7914276123047,
          158.13856942313058,
          158.5171399797712,
          158.99857003348214
         ],
         "yaxis": "y"
        },
        {
         "mode": "lines",
         "name": "Média móvel 14 dias",
         "type": "scatter",
         "x": [
          "2023-01-03T00:00:00",
          "2023-01-04T00:00:00",
          "2023-01-05T00:00:00",
          "2023-01-06T00:00:00",
          "2023-01-09T00:00:00",
          "2023-01-10T00:00:00",
          "2023-01-11T00:00:00",
          "2023-01-12T00:00:00",
          "2023-01-13T00:00:00",
          "2023-01-17T00:00:00",
          "2023-01-18T00:00:00",
          "2023-01-19T00:00:00",
          "2023-01-20T00:00:00",
          "2023-01-23T00:00:00",
          "2023-01-24T00:00:00",
          "2023-01-25T00:00:00",
          "2023-01-26T00:00:00",
          "2023-01-27T00:00:00",
          "2023-01-30T00:00:00",
          "2023-01-31T00:00:00",
          "2023-02-01T00:00:00",
          "2023-02-02T00:00:00",
          "2023-02-03T00:00:00",
          "2023-02-06T00:00:00",
          "2023-02-07T00:00:00",
          "2023-02-08T00:00:00",
          "2023-02-09T00:00:00",
          "2023-02-10T00:00:00",
          "2023-02-13T00:00:00",
          "2023-02-14T00:00:00",
          "2023-02-15T00:00:00",
          "2023-02-16T00:00:00",
          "2023-02-17T00:00:00",
          "2023-02-21T00:00:00",
          "2023-02-22T00:00:00",
          "2023-02-23T00:00:00",
          "2023-02-24T00:00:00",
          "2023-02-27T00:00:00",
          "2023-02-28T00:00:00",
          "2023-03-01T00:00:00",
          "2023-03-02T00:00:00",
          "2023-03-03T00:00:00",
          "2023-03-06T00:00:00",
          "2023-03-07T00:00:00",
          "2023-03-08T00:00:00",
          "2023-03-09T00:00:00",
          "2023-03-10T00:00:00",
          "2023-03-13T00:00:00",
          "2023-03-14T00:00:00",
          "2023-03-15T00:00:00",
          "2023-03-16T00:00:00",
          "2023-03-17T00:00:00",
          "2023-03-20T00:00:00",
          "2023-03-21T00:00:00",
          "2023-03-22T00:00:00",
          "2023-03-23T00:00:00",
          "2023-03-24T00:00:00",
          "2023-03-27T00:00:00",
          "2023-03-28T00:00:00",
          "2023-03-29T00:00:00"
         ],
         "xaxis": "x",
         "y": [
          null,
          null,
          null,
          null,
          null,
          null,
          null,
          null,
          null,
          null,
          null,
          null,
          null,
          132.42928532191686,
          133.6764281136649,
          134.78357097080774,
          136.1364288330078,
          137.30142865862166,
          138.2192862374442,
          139.18785749162947,
          140.04071371895927,
          141.28428540910994,
          142.6942858014788,
          143.822142464774,
          145.21071297781808,
          146.3999982561384,
          147.32856968470983,
          148.03571210588728,
          148.8442840576172,
          149.65428379603796,
          150.4664263044085,
          151.02214159284318,
          151.70428466796875,
          152.00357055664062,
          152.25214276994978,
          152.15071323939733,
          151.59428514753068,
          151.322142464774,
          150.80500030517578,
          150.3328574044364,
          149.97857230050224,
          149.98000117710657,
          149.97857230050224,
          149.86428724016463,
          149.6885724748884,
          149.46571459089006,
          149.17642865862166,
          149.31857190813338,
          149.58142852783203,
          149.83785792759485,
          150.49071502685547,
          150.99642944335938,
          151.71000017438615,
          152.7078574044364,
          153.55928584507532,
          154.12357112339564,
          154.58214242117745,
          155.05928475516183,
          155.40071323939733,
          156.1278566632952
         ],
         "yaxis": "y"
        },
        {
         "name": "Volume",
         "type": "bar",
         "x": [
          "2023-01-03T00:00:00",
          "2023-01-04T00:00:00",
          "2023-01-05T00:00:00",
          "2023-01-06T00:00:00",
          "2023-01-09T00:00:00",
          "2023-01-10T00:00:00",
          "2023-01-11T00:00:00",
          "2023-01-12T00:00:00",
          "2023-01-13T00:00:00",
          "2023-01-17T00:00:00",
          "2023-01-18T00:00:00",
          "2023-01-19T00:00:00",
          "2023-01-20T00:00:00",
          "2023-01-23T00:00:00",
          "2023-01-24T00:00:00",
          "2023-01-25T00:00:00",
          "2023-01-26T00:00:00",
          "2023-01-27T00:00:00",
          "2023-01-30T00:00:00",
          "2023-01-31T00:00:00",
          "2023-02-01T00:00:00",
          "2023-02-02T00:00:00",
          "2023-02-03T00:00:00",
          "2023-02-06T00:00:00",
          "2023-02-07T00:00:00",
          "2023-02-08T00:00:00",
          "2023-02-09T00:00:00",
          "2023-02-10T00:00:00",
          "2023-02-13T00:00:00",
          "2023-02-14T00:00:00",
          "2023-02-15T00:00:00",
          "2023-02-16T00:00:00",
          "2023-02-17T00:00:00",
          "2023-02-21T00:00:00",
          "2023-02-22T00:00:00",
          "2023-02-23T00:00:00",
          "2023-02-24T00:00:00",
          "2023-02-27T00:00:00",
          "2023-02-28T00:00:00",
          "2023-03-01T00:00:00",
          "2023-03-02T00:00:00",
          "2023-03-03T00:00:00",
          "2023-03-06T00:00:00",
          "2023-03-07T00:00:00",
          "2023-03-08T00:00:00",
          "2023-03-09T00:00:00",
          "2023-03-10T00:00:00",
          "2023-03-13T00:00:00",
          "2023-03-14T00:00:00",
          "2023-03-15T00:00:00",
          "2023-03-16T00:00:00",
          "2023-03-17T00:00:00",
          "2023-03-20T00:00:00",
          "2023-03-21T00:00:00",
          "2023-03-22T00:00:00",
          "2023-03-23T00:00:00",
          "2023-03-24T00:00:00",
          "2023-03-27T00:00:00",
          "2023-03-28T00:00:00",
          "2023-03-29T00:00:00"
         ],
         "xaxis": "x2",
         "y": [
          112117500,
          89113600,
          80962700,
          87754700,
          70790800,
          63896200,
          69458900,
          71379600,
          57809700,
          63646600,
          69672800,
          58280400,
          80223600,
          81760300,
          66435100,
          65799300,
          54105100,
          70555800,
          64015300,
          65874500,
          77663600,
          118339000,
          154357300,
          69858300,
          83322600,
          64120100,
          56007100,
          57450700,
          62199000,
          61707600,
          65573800,
          68167900,
          59144100,
          58867200,
          51011300,
          48394200,
          55469600,
          44998500,
          50547000,
          55479000,
          52238100,
          70732300,
          87558000,
          56182000,
          47204800,
          53833600,
          68572400,
          84457100,
          73695900,
          77167900,
          76161100,
          98944600,
          73641400,
          73938300,
          75701800,
          67622100,
          59196500,
          52390300,
          45992200,
          51305700
         ],
         "yaxis": "y2"
        }
       ],
       "layout": {
        "annotations": [
         {
          "font": {
           "size": 16
          },
          "showarrow": false,
          "text": "Candlestick",
          "x": 0.5,
          "xanchor": "center",
          "xref": "paper",
          "y": 1,
          "yanchor": "bottom",
          "yref": "paper"
         },
         {
          "font": {
           "size": 16
          },
          "showarrow": false,
          "text": "Volume",
          "x": 0.5,
          "xanchor": "center",
          "xref": "paper",
          "y": 0.20000000000000004,
          "yanchor": "bottom",
          "yref": "paper"
         }
        ],
        "height": 600,
        "template": {
         "data": {
          "bar": [
           {
            "error_x": {
             "color": "#2a3f5f"
            },
            "error_y": {
             "color": "#2a3f5f"
            },
            "marker": {
             "line": {
              "color": "#E5ECF6",
              "width": 0.5
             },
             "pattern": {
              "fillmode": "overlay",
              "size": 10,
              "solidity": 0.2
             }
            },
            "type": "bar"
           }
          ],
          "barpolar": [
           {
            "marker": {
             "line": {
              "color": "#E5ECF6",
              "width": 0.5
             },
             "pattern": {
              "fillmode": "overlay",
              "size": 10,
              "solidity": 0.2
             }
            },
            "type": "barpolar"
           }
          ],
          "carpet": [
           {
            "aaxis": {
             "endlinecolor": "#2a3f5f",
             "gridcolor": "white",
             "linecolor": "white",
             "minorgridcolor": "white",
             "startlinecolor": "#2a3f5f"
            },
            "baxis": {
             "endlinecolor": "#2a3f5f",
             "gridcolor": "white",
             "linecolor": "white",
             "minorgridcolor": "white",
             "startlinecolor": "#2a3f5f"
            },
            "type": "carpet"
           }
          ],
          "choropleth": [
           {
            "colorbar": {
             "outlinewidth": 0,
             "ticks": ""
            },
            "type": "choropleth"
           }
          ],
          "contour": [
           {
            "colorbar": {
             "outlinewidth": 0,
             "ticks": ""
            },
            "colorscale": [
             [
              0,
              "#0d0887"
             ],
             [
              0.1111111111111111,
              "#46039f"
             ],
             [
              0.2222222222222222,
              "#7201a8"
             ],
             [
              0.3333333333333333,
              "#9c179e"
             ],
             [
              0.4444444444444444,
              "#bd3786"
             ],
             [
              0.5555555555555556,
              "#d8576b"
             ],
             [
              0.6666666666666666,
              "#ed7953"
             ],
             [
              0.7777777777777778,
              "#fb9f3a"
             ],
             [
              0.8888888888888888,
              "#fdca26"
             ],
             [
              1,
              "#f0f921"
             ]
            ],
            "type": "contour"
           }
          ],
          "contourcarpet": [
           {
            "colorbar": {
             "outlinewidth": 0,
             "ticks": ""
            },
            "type": "contourcarpet"
           }
          ],
          "heatmap": [
           {
            "colorbar": {
             "outlinewidth": 0,
             "ticks": ""
            },
            "colorscale": [
             [
              0,
              "#0d0887"
             ],
             [
              0.1111111111111111,
              "#46039f"
             ],
             [
              0.2222222222222222,
              "#7201a8"
             ],
             [
              0.3333333333333333,
              "#9c179e"
             ],
             [
              0.4444444444444444,
              "#bd3786"
             ],
             [
              0.5555555555555556,
              "#d8576b"
             ],
             [
              0.6666666666666666,
              "#ed7953"
             ],
             [
              0.7777777777777778,
              "#fb9f3a"
             ],
             [
              0.8888888888888888,
              "#fdca26"
             ],
             [
              1,
              "#f0f921"
             ]
            ],
            "type": "heatmap"
           }
          ],
          "heatmapgl": [
           {
            "colorbar": {
             "outlinewidth": 0,
             "ticks": ""
            },
            "colorscale": [
             [
              0,
              "#0d0887"
             ],
             [
              0.1111111111111111,
              "#46039f"
             ],
             [
              0.2222222222222222,
              "#7201a8"
             ],
             [
              0.3333333333333333,
              "#9c179e"
             ],
             [
              0.4444444444444444,
              "#bd3786"
             ],
             [
              0.5555555555555556,
              "#d8576b"
             ],
             [
              0.6666666666666666,
              "#ed7953"
             ],
             [
              0.7777777777777778,
              "#fb9f3a"
             ],
             [
              0.8888888888888888,
              "#fdca26"
             ],
             [
              1,
              "#f0f921"
             ]
            ],
            "type": "heatmapgl"
           }
          ],
          "histogram": [
           {
            "marker": {
             "pattern": {
              "fillmode": "overlay",
              "size": 10,
              "solidity": 0.2
             }
            },
            "type": "histogram"
           }
          ],
          "histogram2d": [
           {
            "colorbar": {
             "outlinewidth": 0,
             "ticks": ""
            },
            "colorscale": [
             [
              0,
              "#0d0887"
             ],
             [
              0.1111111111111111,
              "#46039f"
             ],
             [
              0.2222222222222222,
              "#7201a8"
             ],
             [
              0.3333333333333333,
              "#9c179e"
             ],
             [
              0.4444444444444444,
              "#bd3786"
             ],
             [
              0.5555555555555556,
              "#d8576b"
             ],
             [
              0.6666666666666666,
              "#ed7953"
             ],
             [
              0.7777777777777778,
              "#fb9f3a"
             ],
             [
              0.8888888888888888,
              "#fdca26"
             ],
             [
              1,
              "#f0f921"
             ]
            ],
            "type": "histogram2d"
           }
          ],
          "histogram2dcontour": [
           {
            "colorbar": {
             "outlinewidth": 0,
             "ticks": ""
            },
            "colorscale": [
             [
              0,
              "#0d0887"
             ],
             [
              0.1111111111111111,
              "#46039f"
             ],
             [
              0.2222222222222222,
              "#7201a8"
             ],
             [
              0.3333333333333333,
              "#9c179e"
             ],
             [
              0.4444444444444444,
              "#bd3786"
             ],
             [
              0.5555555555555556,
              "#d8576b"
             ],
             [
              0.6666666666666666,
              "#ed7953"
             ],
             [
              0.7777777777777778,
              "#fb9f3a"
             ],
             [
              0.8888888888888888,
              "#fdca26"
             ],
             [
              1,
              "#f0f921"
             ]
            ],
            "type": "histogram2dcontour"
           }
          ],
          "mesh3d": [
           {
            "colorbar": {
             "outlinewidth": 0,
             "ticks": ""
            },
            "type": "mesh3d"
           }
          ],
          "parcoords": [
           {
            "line": {
             "colorbar": {
              "outlinewidth": 0,
              "ticks": ""
             }
            },
            "type": "parcoords"
           }
          ],
          "pie": [
           {
            "automargin": true,
            "type": "pie"
           }
          ],
          "scatter": [
           {
            "fillpattern": {
             "fillmode": "overlay",
             "size": 10,
             "solidity": 0.2
            },
            "type": "scatter"
           }
          ],
          "scatter3d": [
           {
            "line": {
             "colorbar": {
              "outlinewidth": 0,
              "ticks": ""
             }
            },
            "marker": {
             "colorbar": {
              "outlinewidth": 0,
              "ticks": ""
             }
            },
            "type": "scatter3d"
           }
          ],
          "scattercarpet": [
           {
            "marker": {
             "colorbar": {
              "outlinewidth": 0,
              "ticks": ""
             }
            },
            "type": "scattercarpet"
           }
          ],
          "scattergeo": [
           {
            "marker": {
             "colorbar": {
              "outlinewidth": 0,
              "ticks": ""
             }
            },
            "type": "scattergeo"
           }
          ],
          "scattergl": [
           {
            "marker": {
             "colorbar": {
              "outlinewidth": 0,
              "ticks": ""
             }
            },
            "type": "scattergl"
           }
          ],
          "scattermapbox": [
           {
            "marker": {
             "colorbar": {
              "outlinewidth": 0,
              "ticks": ""
             }
            },
            "type": "scattermapbox"
           }
          ],
          "scatterpolar": [
           {
            "marker": {
             "colorbar": {
              "outlinewidth": 0,
              "ticks": ""
             }
            },
            "type": "scatterpolar"
           }
          ],
          "scatterpolargl": [
           {
            "marker": {
             "colorbar": {
              "outlinewidth": 0,
              "ticks": ""
             }
            },
            "type": "scatterpolargl"
           }
          ],
          "scatterternary": [
           {
            "marker": {
             "colorbar": {
              "outlinewidth": 0,
              "ticks": ""
             }
            },
            "type": "scatterternary"
           }
          ],
          "surface": [
           {
            "colorbar": {
             "outlinewidth": 0,
             "ticks": ""
            },
            "colorscale": [
             [
              0,
              "#0d0887"
             ],
             [
              0.1111111111111111,
              "#46039f"
             ],
             [
              0.2222222222222222,
              "#7201a8"
             ],
             [
              0.3333333333333333,
              "#9c179e"
             ],
             [
              0.4444444444444444,
              "#bd3786"
             ],
             [
              0.5555555555555556,
              "#d8576b"
             ],
             [
              0.6666666666666666,
              "#ed7953"
             ],
             [
              0.7777777777777778,
              "#fb9f3a"
             ],
             [
              0.8888888888888888,
              "#fdca26"
             ],
             [
              1,
              "#f0f921"
             ]
            ],
            "type": "surface"
           }
          ],
          "table": [
           {
            "cells": {
             "fill": {
              "color": "#EBF0F8"
             },
             "line": {
              "color": "white"
             }
            },
            "header": {
             "fill": {
              "color": "#C8D4E3"
             },
             "line": {
              "color": "white"
             }
            },
            "type": "table"
           }
          ]
         },
         "layout": {
          "annotationdefaults": {
           "arrowcolor": "#2a3f5f",
           "arrowhead": 0,
           "arrowwidth": 1
          },
          "autotypenumbers": "strict",
          "coloraxis": {
           "colorbar": {
            "outlinewidth": 0,
            "ticks": ""
           }
          },
          "colorscale": {
           "diverging": [
            [
             0,
             "#8e0152"
            ],
            [
             0.1,
             "#c51b7d"
            ],
            [
             0.2,
             "#de77ae"
            ],
            [
             0.3,
             "#f1b6da"
            ],
            [
             0.4,
             "#fde0ef"
            ],
            [
             0.5,
             "#f7f7f7"
            ],
            [
             0.6,
             "#e6f5d0"
            ],
            [
             0.7,
             "#b8e186"
            ],
            [
             0.8,
             "#7fbc41"
            ],
            [
             0.9,
             "#4d9221"
            ],
            [
             1,
             "#276419"
            ]
           ],
           "sequential": [
            [
             0,
             "#0d0887"
            ],
            [
             0.1111111111111111,
             "#46039f"
            ],
            [
             0.2222222222222222,
             "#7201a8"
            ],
            [
             0.3333333333333333,
             "#9c179e"
            ],
            [
             0.4444444444444444,
             "#bd3786"
            ],
            [
             0.5555555555555556,
             "#d8576b"
            ],
            [
             0.6666666666666666,
             "#ed7953"
            ],
            [
             0.7777777777777778,
             "#fb9f3a"
            ],
            [
             0.8888888888888888,
             "#fdca26"
            ],
            [
             1,
             "#f0f921"
            ]
           ],
           "sequentialminus": [
            [
             0,
             "#0d0887"
            ],
            [
             0.1111111111111111,
             "#46039f"
            ],
            [
             0.2222222222222222,
             "#7201a8"
            ],
            [
             0.3333333333333333,
             "#9c179e"
            ],
            [
             0.4444444444444444,
             "#bd3786"
            ],
            [
             0.5555555555555556,
             "#d8576b"
            ],
            [
             0.6666666666666666,
             "#ed7953"
            ],
            [
             0.7777777777777778,
             "#fb9f3a"
            ],
            [
             0.8888888888888888,
             "#fdca26"
            ],
            [
             1,
             "#f0f921"
            ]
           ]
          },
          "colorway": [
           "#636efa",
           "#EF553B",
           "#00cc96",
           "#ab63fa",
           "#FFA15A",
           "#19d3f3",
           "#FF6692",
           "#B6E880",
           "#FF97FF",
           "#FECB52"
          ],
          "font": {
           "color": "#2a3f5f"
          },
          "geo": {
           "bgcolor": "white",
           "lakecolor": "white",
           "landcolor": "#E5ECF6",
           "showlakes": true,
           "showland": true,
           "subunitcolor": "white"
          },
          "hoverlabel": {
           "align": "left"
          },
          "hovermode": "closest",
          "mapbox": {
           "style": "light"
          },
          "paper_bgcolor": "white",
          "plot_bgcolor": "#E5ECF6",
          "polar": {
           "angularaxis": {
            "gridcolor": "white",
            "linecolor": "white",
            "ticks": ""
           },
           "bgcolor": "#E5ECF6",
           "radialaxis": {
            "gridcolor": "white",
            "linecolor": "white",
            "ticks": ""
           }
          },
          "scene": {
           "xaxis": {
            "backgroundcolor": "#E5ECF6",
            "gridcolor": "white",
            "gridwidth": 2,
            "linecolor": "white",
            "showbackground": true,
            "ticks": "",
            "zerolinecolor": "white"
           },
           "yaxis": {
            "backgroundcolor": "#E5ECF6",
            "gridcolor": "white",
            "gridwidth": 2,
            "linecolor": "white",
            "showbackground": true,
            "ticks": "",
            "zerolinecolor": "white"
           },
           "zaxis": {
            "backgroundcolor": "#E5ECF6",
            "gridcolor": "white",
            "gridwidth": 2,
            "linecolor": "white",
            "showbackground": true,
            "ticks": "",
            "zerolinecolor": "white"
           }
          },
          "shapedefaults": {
           "line": {
            "color": "#2a3f5f"
           }
          },
          "ternary": {
           "aaxis": {
            "gridcolor": "white",
            "linecolor": "white",
            "ticks": ""
           },
           "baxis": {
            "gridcolor": "white",
            "linecolor": "white",
            "ticks": ""
           },
           "bgcolor": "#E5ECF6",
           "caxis": {
            "gridcolor": "white",
            "linecolor": "white",
            "ticks": ""
           }
          },
          "title": {
           "x": 0.05
          },
          "xaxis": {
           "automargin": true,
           "gridcolor": "white",
           "linecolor": "white",
           "ticks": "",
           "title": {
            "standoff": 15
           },
           "zerolinecolor": "white",
           "zerolinewidth": 2
          },
          "yaxis": {
           "automargin": true,
           "gridcolor": "white",
           "linecolor": "white",
           "ticks": "",
           "title": {
            "standoff": 15
           },
           "zerolinecolor": "white",
           "zerolinewidth": 2
          }
         }
        },
        "width": 1100,
        "xaxis": {
         "anchor": "y",
         "domain": [
          0,
          1
         ],
         "matches": "x2",
         "rangeslider": {
          "visible": false
         },
         "showticklabels": false
        },
        "xaxis2": {
         "anchor": "y2",
         "domain": [
          0,
          1
         ]
        },
        "yaxis": {
         "anchor": "x",
         "domain": [
          0.30000000000000004,
          1
         ],
         "title": {
          "text": "Preço"
         }
        },
        "yaxis2": {
         "anchor": "x2",
         "domain": [
          0,
          0.20000000000000004
         ]
        }
       }
      }
     },
     "metadata": {},
     "output_type": "display_data"
    }
   ],
   "source": [
    "fig = make_subplots(\n",
    "    rows=2,\n",
    "    cols=1,\n",
    "    shared_xaxes=True,\n",
    "    vertical_spacing=0.1,\n",
    "    subplot_titles=('Candlestick', 'Volume'),\n",
    "    row_width=[0.2, 0.7])\n",
    "\n",
    "fig.add_trace(\n",
    "    go.Candlestick(\n",
    "        x=df_menor.index,\n",
    "        open=df_menor['abertura'],\n",
    "        high=df_menor['maximo'],\n",
    "        low=df_menor['minimo'],\n",
    "        close=df_menor['fechamento'],\n",
    "        name='Candlestick'),\n",
    "    row=1,\n",
    "    col=1)\n",
    "\n",
    "fig.add_trace(\n",
    "    go.Scatter(\n",
    "        x=df_menor.index,\n",
    "        y=df_menor['media_movel_7_dias'],\n",
    "        mode='lines',\n",
    "        name='Média móvel 7 dias'\n",
    "    ),\n",
    "    row=1,\n",
    "    col=1\n",
    ")\n",
    "\n",
    "fig.add_trace(\n",
    "    go.Scatter(\n",
    "        x=df_menor.index,\n",
    "        y=df_menor['media_movel_14_dias'],\n",
    "        mode='lines',\n",
    "        name='Média móvel 14 dias'\n",
    "    ),\n",
    "    row=1,\n",
    "    col=1\n",
    ")\n",
    "\n",
    "fig.add_trace(\n",
    "    go.Bar(\n",
    "        x=df_menor.index,\n",
    "        y=df_menor['volume'],\n",
    "        name='Volume'\n",
    "    ),\n",
    "    row=2,\n",
    "    col=1\n",
    ")\n",
    "\n",
    "fig.update_layout(\n",
    "    yaxis_title='Preço',\n",
    "    xaxis_rangeslider_visible=False,\n",
    "    width=1100,\n",
    "    height=600\n",
    ")\n",
    "\n",
    "fig.show()"
   ]
  },
  {
   "cell_type": "code",
   "execution_count": 29,
   "metadata": {},
   "outputs": [
    {
     "data": {
      "image/png": "[encoded data removed]",
      "text/plain": [
       "<Figure size 1600x800 with 4 Axes>"
      ]
     },
     "metadata": {},
     "output_type": "display_data"
    }
   ],
   "source": [
    "mpf.plot(\n",
    "    df_original.head(60),\n",
    "    type='candle',\n",
    "    figsize=(16,8),\n",
    "    volume=True,\n",
    "    mav=(7,14),\n",
    "    style='yahoo'\n",
    ")"
   ]
  }
 ],
 "metadata": {
  "kernelspec": {
   "display_name": "Python 3",
   "language": "python",
   "name": "python3"
  },
  "language_info": {
   "codemirror_mode": {
    "name": "ipython",
    "version": 3
   },
   "file_extension": ".py",
   "mimetype": "text/x-python",
   "name": "python",
   "nbconvert_exporter": "python",
   "pygments_lexer": "ipython3",
   "version": "3.11.8"
  }
 },
 "nbformat": 4,
 "nbformat_minor": 2
}
